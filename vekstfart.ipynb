{
 "cells": [
  {
   "cell_type": "markdown",
   "id": "2aa40f52-2fb0-4927-9b6a-75ec457f1962",
   "metadata": {},
   "source": [
    "# Vekstfart"
   ]
  },
  {
   "cell_type": "markdown",
   "id": "741b064e-3cc1-4d19-b44a-caebe60060ff",
   "metadata": {},
   "source": [
    "## Gjennomsnitlig vekstfart\n",
    "\n",
    "- Fra punkt\n"
   ]
  },
  {
   "cell_type": "code",
   "execution_count": 2,
   "id": "835ad9fe-ec04-4e23-b2e7-e5cc9e7cafa5",
   "metadata": {},
   "outputs": [
    {
     "name": "stdout",
     "output_type": "stream",
     "text": [
      "Gjennomsnitlig vekstfart mellom (2,3) og (8,12): 1.5000\n"
     ]
    }
   ],
   "source": [
    "#punkt 1\n",
    "x_1 = 2\n",
    "y_1 = 3\n",
    "\n",
    "#punkt 2\n",
    "x_2 = 8\n",
    "y_2 = 12\n",
    "\n",
    "#Endring i y-verdi\n",
    "delta_y = y_2 - y_1\n",
    "\n",
    "#Endring i x-verdi\n",
    "delta_x = x_2 - x_1\n",
    "\n",
    "#gjennomsnitlig vekstfart\n",
    "a = delta_y/delta_x\n",
    "\n",
    "print(f\"Gjennomsnitlig vekstfart mellom ({x_1},{y_1}) og ({x_2},{y_2}): {a:.4f}\")"
   ]
  },
  {
   "cell_type": "code",
   "execution_count": 12,
   "id": "259d388e-5d75-4019-b53c-8ee1ad6d2169",
   "metadata": {},
   "outputs": [
    {
     "data": {
      "text/plain": [
       "1.5"
      ]
     },
     "execution_count": 12,
     "metadata": {},
     "output_type": "execute_result"
    }
   ],
   "source": [
    "(12-3)/(8-2)"
   ]
  },
  {
   "cell_type": "markdown",
   "id": "935bde5d-dfa7-4edc-98e7-f5063390eaa7",
   "metadata": {},
   "source": [
    "- Fra intervall i funksjon"
   ]
  },
  {
   "cell_type": "code",
   "execution_count": 16,
   "id": "756575ea-7867-4eaa-89a1-426d3c6d06db",
   "metadata": {},
   "outputs": [
    {
     "name": "stdout",
     "output_type": "stream",
     "text": [
      "Gjennomsnitlig vekstfart mellom (1,4) og (4,-5): -3.0000\n"
     ]
    }
   ],
   "source": [
    "def f(x):\n",
    "    return -x**2 + 2*x + 3\n",
    "\n",
    "#punkt 1\n",
    "x_1 = 1\n",
    "y_1 = f(x_1)\n",
    "\n",
    "#punkt 2\n",
    "x_2 = 4\n",
    "y_2 = f(x_2)\n",
    "\n",
    "#Endring i y-verdi\n",
    "delta_y = y_2 - y_1\n",
    "\n",
    "#Endring i x-verdi\n",
    "delta_x = x_2 - x_1\n",
    "\n",
    "#gjennomsnitlig vekstfart\n",
    "a = delta_y/delta_x\n",
    "\n",
    "print(f\"Gjennomsnitlig vekstfart mellom ({x_1},{y_1}) og ({x_2},{y_2}): {a:.4f}\")"
   ]
  },
  {
   "cell_type": "markdown",
   "id": "4d03960d-76b1-446b-9427-0c55745309c5",
   "metadata": {},
   "source": [
    "## Momentan vekstfart"
   ]
  },
  {
   "cell_type": "code",
   "execution_count": 30,
   "id": "5706dcb9-8576-4bdb-b003-a95547f8adfa",
   "metadata": {},
   "outputs": [
    {
     "name": "stdout",
     "output_type": "stream",
     "text": [
      "Den momentane vekstfarten for når x = 1: 0.0000\n"
     ]
    }
   ],
   "source": [
    "def f(x):\n",
    "    return -x**2 + 2*x + 3\n",
    "\n",
    "#punkt 1\n",
    "x_1 = 1\n",
    "y_1 = f(x_1)\n",
    "\n",
    "#punkt 2\n",
    "x_2 = x_1 + 0.000000001\n",
    "y_2 = f(x_2)\n",
    "\n",
    "#Endring i y-verdi\n",
    "delta_y = y_2 - y_1\n",
    "\n",
    "#Endring i x-verdi\n",
    "delta_x = x_2 - x_1\n",
    "\n",
    "#gjennomsnitlig vekstfart\n",
    "a = delta_y/delta_x\n",
    "\n",
    "print(f\"Den momentane vekstfarten for når x = {x_1}: {a:.4f}\")"
   ]
  },
  {
   "cell_type": "code",
   "execution_count": 42,
   "id": "5cef2b64-f0bf-4133-adc9-b142adf2686e",
   "metadata": {},
   "outputs": [
    {
     "name": "stdout",
     "output_type": "stream",
     "text": [
      "Den momentane vekstfarten for når x = 1 : -3.0000\n"
     ]
    }
   ],
   "source": [
    "def f(x):\n",
    "    return x**2 -5*x + 3\n",
    "\n",
    "x = 1\n",
    "delta_x = 0.00001\n",
    "\n",
    "deriverte = (f(x + delta_x) - f(x))/delta_x\n",
    "\n",
    "print(f\"Den momentane vekstfarten for når x = {x} : {deriverte:.4f}\")"
   ]
  },
  {
   "cell_type": "code",
   "execution_count": null,
   "id": "3b4c9bb7-9798-4786-b60d-03492320ff4d",
   "metadata": {},
   "outputs": [],
   "source": []
  },
  {
   "cell_type": "code",
   "execution_count": 51,
   "id": "b4b8b78d-12d0-4863-bb47-cf8777c16762",
   "metadata": {},
   "outputs": [
    {
     "name": "stdout",
     "output_type": "stream",
     "text": [
      "26400.000000000004\n",
      "55440.00000000001\n",
      "87384.0\n",
      "122522.40000000001\n",
      "161174.64000000004\n",
      "203692.10400000005\n",
      "250461.31440000006\n",
      "301907.44584000006\n",
      "358498.1904240001\n",
      "420748.00946640014\n",
      "489222.81041304016\n",
      "564545.0914543442\n",
      "647399.6005997787\n",
      "738539.5606597567\n",
      "838793.5167257324\n",
      "949072.8683983057\n",
      "1070380.1552381364\n",
      "1203818.17076195\n",
      "1350599.987838145\n",
      "1512059.9866219598\n",
      "1689665.985284156\n",
      "1885032.5838125716\n",
      "2099935.842193829\n",
      "2336329.426413212\n",
      "2596362.3690545335\n",
      "2882398.6059599873\n",
      "3197038.466555986\n",
      "3543142.313211585\n",
      "3923856.5445327437\n",
      "4342642.198986018\n",
      "4803306.41888462\n",
      "5310037.060773082\n",
      "5867440.7668503905\n",
      "6480584.84353543\n",
      "7155043.327888973\n",
      "7896947.660677871\n",
      "8713042.426745659\n",
      "9610746.669420226\n",
      "10598221.336362248\n",
      "11684443.469998473\n",
      "12879287.816998322\n",
      "14193616.598698154\n",
      "15639378.25856797\n",
      "17229716.084424768\n",
      "18979087.692867246\n",
      "20903396.46215397\n",
      "23020136.10836937\n"
     ]
    }
   ],
   "source": [
    "sum = 0\n",
    "for x in range(1, 48):\n",
    "    sum = sum + 2000*12\n",
    "    sum = sum*1.10\n",
    "\n",
    "    print(sum)"
   ]
  },
  {
   "cell_type": "code",
   "execution_count": null,
   "id": "5dd44202-9813-4375-896a-5eb7eff04bc9",
   "metadata": {},
   "outputs": [],
   "source": []
  }
 ],
 "metadata": {
  "kernelspec": {
   "display_name": "Python 3 (ipykernel)",
   "language": "python",
   "name": "python3"
  },
  "language_info": {
   "codemirror_mode": {
    "name": "ipython",
    "version": 3
   },
   "file_extension": ".py",
   "mimetype": "text/x-python",
   "name": "python",
   "nbconvert_exporter": "python",
   "pygments_lexer": "ipython3",
   "version": "3.8.12"
  }
 },
 "nbformat": 4,
 "nbformat_minor": 5
}

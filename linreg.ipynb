{
 "cells": [
  {
   "cell_type": "code",
   "execution_count": 64,
   "id": "23cfbe75-735b-44cf-bc8d-a664efb4b1cc",
   "metadata": {},
   "outputs": [
    {
     "data": {
      "text/html": [
       "<div>\n",
       "<style scoped>\n",
       "    .dataframe tbody tr th:only-of-type {\n",
       "        vertical-align: middle;\n",
       "    }\n",
       "\n",
       "    .dataframe tbody tr th {\n",
       "        vertical-align: top;\n",
       "    }\n",
       "\n",
       "    .dataframe thead th {\n",
       "        text-align: right;\n",
       "    }\n",
       "</style>\n",
       "<table border=\"1\" class=\"dataframe\">\n",
       "  <thead>\n",
       "    <tr style=\"text-align: right;\">\n",
       "      <th></th>\n",
       "      <th>Nummer</th>\n",
       "      <th>Måned</th>\n",
       "      <th>Pris</th>\n",
       "    </tr>\n",
       "  </thead>\n",
       "  <tbody>\n",
       "    <tr>\n",
       "      <th>0</th>\n",
       "      <td>1</td>\n",
       "      <td>1986M08</td>\n",
       "      <td>4.44</td>\n",
       "    </tr>\n",
       "    <tr>\n",
       "      <th>1</th>\n",
       "      <td>2</td>\n",
       "      <td>1986M09</td>\n",
       "      <td>4.44</td>\n",
       "    </tr>\n",
       "    <tr>\n",
       "      <th>2</th>\n",
       "      <td>3</td>\n",
       "      <td>1986M10</td>\n",
       "      <td>4.43</td>\n",
       "    </tr>\n",
       "    <tr>\n",
       "      <th>3</th>\n",
       "      <td>4</td>\n",
       "      <td>1986M11</td>\n",
       "      <td>4.42</td>\n",
       "    </tr>\n",
       "    <tr>\n",
       "      <th>4</th>\n",
       "      <td>5</td>\n",
       "      <td>1986M12</td>\n",
       "      <td>4.42</td>\n",
       "    </tr>\n",
       "    <tr>\n",
       "      <th>...</th>\n",
       "      <td>...</td>\n",
       "      <td>...</td>\n",
       "      <td>...</td>\n",
       "    </tr>\n",
       "    <tr>\n",
       "      <th>411</th>\n",
       "      <td>412</td>\n",
       "      <td>2020M11</td>\n",
       "      <td>13.56</td>\n",
       "    </tr>\n",
       "    <tr>\n",
       "      <th>412</th>\n",
       "      <td>413</td>\n",
       "      <td>2020M12</td>\n",
       "      <td>14.44</td>\n",
       "    </tr>\n",
       "    <tr>\n",
       "      <th>413</th>\n",
       "      <td>414</td>\n",
       "      <td>2021M01</td>\n",
       "      <td>15.32</td>\n",
       "    </tr>\n",
       "    <tr>\n",
       "      <th>414</th>\n",
       "      <td>415</td>\n",
       "      <td>2021M02</td>\n",
       "      <td>15.57</td>\n",
       "    </tr>\n",
       "    <tr>\n",
       "      <th>415</th>\n",
       "      <td>416</td>\n",
       "      <td>2021M03</td>\n",
       "      <td>15.59</td>\n",
       "    </tr>\n",
       "  </tbody>\n",
       "</table>\n",
       "<p>416 rows × 3 columns</p>\n",
       "</div>"
      ],
      "text/plain": [
       "     Nummer    Måned   Pris\n",
       "0         1  1986M08   4.44\n",
       "1         2  1986M09   4.44\n",
       "2         3  1986M10   4.43\n",
       "3         4  1986M11   4.42\n",
       "4         5  1986M12   4.42\n",
       "..      ...      ...    ...\n",
       "411     412  2020M11  13.56\n",
       "412     413  2020M12  14.44\n",
       "413     414  2021M01  15.32\n",
       "414     415  2021M02  15.57\n",
       "415     416  2021M03  15.59\n",
       "\n",
       "[416 rows x 3 columns]"
      ]
     },
     "execution_count": 64,
     "metadata": {},
     "output_type": "execute_result"
    }
   ],
   "source": [
    "import pandas as pd\n",
    "\n",
    "df = pd.read_csv('bensinpriser.csv', comment = '#', sep = ';')\n",
    "df"
   ]
  },
  {
   "cell_type": "code",
   "execution_count": 65,
   "id": "9378e6c5-fb54-4191-8a41-3d001859d6b2",
   "metadata": {},
   "outputs": [
    {
     "data": {
      "image/png": "[encoded data removed]",
      "text/plain": [
       "<Figure size 432x288 with 1 Axes>"
      ]
     },
     "metadata": {
      "needs_background": "light"
     },
     "output_type": "display_data"
    }
   ],
   "source": [
    "import matplotlib.pyplot as plt\n",
    "\n",
    "plt.plot(df[\"Pris\"])\n",
    "plt.show()"
   ]
  },
  {
   "cell_type": "markdown",
   "id": "c6bdf308-edd8-4004-859b-1ae4e80f0fc2",
   "metadata": {},
   "source": [
    "## Lineær regresjon\n",
    "\n",
    "$\\bar{y}$:  Gjennomsnitsverdien til $y$\n",
    "\n",
    "$\\bar{x}$:   Gjennomsnitsverdien til $x$\n",
    "\n",
    "$\\bar{y} = a\\cdot \\bar{x} + b$\n",
    "\n",
    "$b = \\bar{y} - a\\cdot \\bar{x}$\n",
    "\n",
    "$a = \\frac{\\sum_{i=1}^n (x_i - \\bar{x})(y_i-\\bar{y})}{\\sum_{i=1}^n(x_i-\\bar{x})^2}$"
   ]
  },
  {
   "cell_type": "code",
   "execution_count": 66,
   "id": "68c8975b-ce9b-4d03-b76a-422d985dff72",
   "metadata": {},
   "outputs": [],
   "source": [
    "import numpy as np\n",
    "\n",
    "x = df[\"Nummer\"]\n",
    "y = df[\"Pris\"]\n",
    "x_snitt = np.mean(x)\n",
    "y_snitt = np.mean(y)\n",
    "n = df.shape[0]\n",
    "\n",
    "a_teller = 0\n",
    "a_nevner = 0\n",
    "for i in range(n):\n",
    "    x_i = x[i]\n",
    "    y_i = y[i]\n",
    "    a_teller += (x_i-x_snitt)*(y_i-y_snitt)\n",
    "    a_nevner += (x_i-x_snitt)**2\n",
    "    \n",
    "    \n",
    "a = a_teller/a_nevner\n",
    "b = y_snitt-a*x_snitt"
   ]
  },
  {
   "cell_type": "markdown",
   "id": "a4ac0a0f-cce9-47ab-8086-bd1254489a1b",
   "metadata": {},
   "source": [
    "## Lineær modell"
   ]
  },
  {
   "cell_type": "code",
   "execution_count": 70,
   "id": "73c49b99-f22e-44a0-9d43-e5e4d17a7683",
   "metadata": {},
   "outputs": [
    {
     "name": "stdout",
     "output_type": "stream",
     "text": [
      "   f(x) = 0.028 x + 4.443\n"
     ]
    },
    {
     "data": {
      "image/png": "[encoded data removed]",
      "text/plain": [
       "<Figure size 432x288 with 1 Axes>"
      ]
     },
     "metadata": {
      "needs_background": "light"
     },
     "output_type": "display_data"
    }
   ],
   "source": [
    "print(f'   f(x) = {a:.3f} x + {b:.3f}')\n",
    "\n",
    "plt.plot(x, y)\n",
    "plt.plot(x, a*x + b)\n",
    "plt.show()"
   ]
  },
  {
   "cell_type": "markdown",
   "id": "9ef129e7-9d16-40cf-97fc-676928e84733",
   "metadata": {},
   "source": [
    "# Detaljehandel"
   ]
  },
  {
   "cell_type": "code",
   "execution_count": 71,
   "id": "22afee15-6757-4257-9b2d-6b750f3a6e1b",
   "metadata": {},
   "outputs": [
    {
     "data": {
      "text/html": [
       "<div>\n",
       "<style scoped>\n",
       "    .dataframe tbody tr th:only-of-type {\n",
       "        vertical-align: middle;\n",
       "    }\n",
       "\n",
       "    .dataframe tbody tr th {\n",
       "        vertical-align: top;\n",
       "    }\n",
       "\n",
       "    .dataframe thead th {\n",
       "        text-align: right;\n",
       "    }\n",
       "</style>\n",
       "<table border=\"1\" class=\"dataframe\">\n",
       "  <thead>\n",
       "    <tr style=\"text-align: right;\">\n",
       "      <th></th>\n",
       "      <th>År</th>\n",
       "      <th>Omsetning</th>\n",
       "    </tr>\n",
       "  </thead>\n",
       "  <tbody>\n",
       "    <tr>\n",
       "      <th>0</th>\n",
       "      <td>2008</td>\n",
       "      <td>69540</td>\n",
       "    </tr>\n",
       "    <tr>\n",
       "      <th>1</th>\n",
       "      <td>2009</td>\n",
       "      <td>70823</td>\n",
       "    </tr>\n",
       "    <tr>\n",
       "      <th>2</th>\n",
       "      <td>2010</td>\n",
       "      <td>71919</td>\n",
       "    </tr>\n",
       "    <tr>\n",
       "      <th>3</th>\n",
       "      <td>2011</td>\n",
       "      <td>73229</td>\n",
       "    </tr>\n",
       "    <tr>\n",
       "      <th>4</th>\n",
       "      <td>2012</td>\n",
       "      <td>74916</td>\n",
       "    </tr>\n",
       "    <tr>\n",
       "      <th>5</th>\n",
       "      <td>2013</td>\n",
       "      <td>75802</td>\n",
       "    </tr>\n",
       "    <tr>\n",
       "      <th>6</th>\n",
       "      <td>2014</td>\n",
       "      <td>78244</td>\n",
       "    </tr>\n",
       "    <tr>\n",
       "      <th>7</th>\n",
       "      <td>2015</td>\n",
       "      <td>80180</td>\n",
       "    </tr>\n",
       "    <tr>\n",
       "      <th>8</th>\n",
       "      <td>2016</td>\n",
       "      <td>82379</td>\n",
       "    </tr>\n",
       "    <tr>\n",
       "      <th>9</th>\n",
       "      <td>2017</td>\n",
       "      <td>83667</td>\n",
       "    </tr>\n",
       "    <tr>\n",
       "      <th>10</th>\n",
       "      <td>2018</td>\n",
       "      <td>84896</td>\n",
       "    </tr>\n",
       "    <tr>\n",
       "      <th>11</th>\n",
       "      <td>2019</td>\n",
       "      <td>86203</td>\n",
       "    </tr>\n",
       "  </tbody>\n",
       "</table>\n",
       "</div>"
      ],
      "text/plain": [
       "      År  Omsetning\n",
       "0   2008      69540\n",
       "1   2009      70823\n",
       "2   2010      71919\n",
       "3   2011      73229\n",
       "4   2012      74916\n",
       "5   2013      75802\n",
       "6   2014      78244\n",
       "7   2015      80180\n",
       "8   2016      82379\n",
       "9   2017      83667\n",
       "10  2018      84896\n",
       "11  2019      86203"
      ]
     },
     "execution_count": 71,
     "metadata": {},
     "output_type": "execute_result"
    }
   ],
   "source": [
    "import pandas as pd\n",
    "\n",
    "df = pd.read_csv('detaljhandel.csv', comment = '#', sep = ';')\n",
    "df"
   ]
  },
  {
   "cell_type": "code",
   "execution_count": 72,
   "id": "13026db9-bb16-4100-854d-051ecc129c63",
   "metadata": {},
   "outputs": [
    {
     "data": {
      "image/png": "[encoded data removed]",
      "text/plain": [
       "<Figure size 432x288 with 1 Axes>"
      ]
     },
     "metadata": {
      "needs_background": "light"
     },
     "output_type": "display_data"
    }
   ],
   "source": [
    "import matplotlib.pyplot as plt\n",
    "\n",
    "plt.plot(df[\"År\"], df[\"Omsetning\"], \".\")\n",
    "plt.show()"
   ]
  },
  {
   "cell_type": "code",
   "execution_count": 73,
   "id": "28266a16-868f-4b46-9044-136139d2a6b1",
   "metadata": {},
   "outputs": [],
   "source": [
    "import numpy as np\n",
    "\n",
    "x = df[\"År\"]\n",
    "y = df[\"Omsetning\"]\n",
    "x_snitt = np.mean(x)\n",
    "y_snitt = np.mean(y)\n",
    "n = df.shape[0]\n",
    "\n",
    "a_teller = 0\n",
    "a_nevner = 0\n",
    "for i in range(n):\n",
    "    x_i = x[i]\n",
    "    y_i = y[i]\n",
    "    a_teller += (x_i-x_snitt)*(y_i-y_snitt)\n",
    "    a_nevner += (x_i-x_snitt)**2\n",
    "    \n",
    "    \n",
    "a = a_teller/a_nevner\n",
    "b = y_snitt-a*x_snitt"
   ]
  },
  {
   "cell_type": "code",
   "execution_count": 74,
   "id": "a55fe180-03bb-424d-a035-75191526b69e",
   "metadata": {},
   "outputs": [
    {
     "name": "stdout",
     "output_type": "stream",
     "text": [
      "   f(x) = 1595.000 x + -3133882.667\n"
     ]
    },
    {
     "data": {
      "image/png": "[encoded data removed]",
      "text/plain": [
       "<Figure size 432x288 with 1 Axes>"
      ]
     },
     "metadata": {
      "needs_background": "light"
     },
     "output_type": "display_data"
    }
   ],
   "source": [
    "print(f'   f(x) = {a:.3f} x + {b:.3f}')\n",
    "\n",
    "plt.plot(x, y, \"x\")\n",
    "plt.plot(x, a*x+b)\n",
    "plt.show()"
   ]
  },
  {
   "cell_type": "code",
   "execution_count": 79,
   "id": "6d60ceb5-9c4c-4747-b97f-d70ef919aeb7",
   "metadata": {},
   "outputs": [
    {
     "data": {
      "text/plain": [
       "0    2008\n",
       "1    2009\n",
       "2    2010\n",
       "3    2011\n",
       "4    2012\n",
       "5    2013\n",
       "6    2014\n",
       "7    2015\n",
       "8    2016\n",
       "9    2017\n",
       "Name: År, dtype: int64"
      ]
     },
     "execution_count": 79,
     "metadata": {},
     "output_type": "execute_result"
    }
   ],
   "source": [
    "df[\"År\"][0:10]"
   ]
  },
  {
   "cell_type": "code",
   "execution_count": 92,
   "id": "dc689ecc-74df-453c-8917-b5d7cb524bcf",
   "metadata": {},
   "outputs": [],
   "source": [
    "liste = [1,2,3,4,5]\n",
    "y = []"
   ]
  },
  {
   "cell_type": "code",
   "execution_count": null,
   "id": "035255ff-743a-4c1f-af93-31a4f5bcd6d8",
   "metadata": {},
   "outputs": [],
   "source": []
  }
 ],
 "metadata": {
  "kernelspec": {
   "display_name": "Python 3 (ipykernel)",
   "language": "python",
   "name": "python3"
  },
  "language_info": {
   "codemirror_mode": {
    "name": "ipython",
    "version": 3
   },
   "file_extension": ".py",
   "mimetype": "text/x-python",
   "name": "python",
   "nbconvert_exporter": "python",
   "pygments_lexer": "ipython3",
   "version": "3.8.12"
  }
 },
 "nbformat": 4,
 "nbformat_minor": 5
}

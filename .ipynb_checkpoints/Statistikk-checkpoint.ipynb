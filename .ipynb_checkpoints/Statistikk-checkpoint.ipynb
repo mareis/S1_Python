{
 "cells": [
  {
   "cell_type": "markdown",
   "id": "a43cb71d-aab4-46bd-b79f-e2a760d69aa2",
   "metadata": {},
   "source": [
    "## Apepopulasjon\n",
    "\n",
    "Høyde\n",
    "- $\\mu = 100$\n",
    "- $\\sigma=15$"
   ]
  },
  {
   "cell_type": "code",
   "execution_count": 18,
   "id": "8a515137-efd7-4d4d-b5c1-9cd5d5479e08",
   "metadata": {},
   "outputs": [
    {
     "name": "stdout",
     "output_type": "stream",
     "text": [
      "148.6\n",
      "149.2\n",
      "159.0\n",
      "145.5\n",
      "145.8\n",
      "146.4\n",
      "146.0\n",
      "153.7\n",
      "147.4\n",
      "147.1\n",
      "146.0\n",
      "Antall aper over 145 cm: 11\n"
     ]
    }
   ],
   "source": [
    "from pylab import *\n",
    "antall_over_145 = 0\n",
    "for i in range(10000):\n",
    "    ape = normal(100, 15)\n",
    "    if ape > 145:\n",
    "        antall_over_145 += 1\n",
    "        print(f'{ape:.1f}')\n",
    "        \n",
    "print(f'Antall aper over 145 cm: {antall_over_145}')"
   ]
  },
  {
   "cell_type": "code",
   "execution_count": 49,
   "id": "3b447710-bb15-4426-bdbb-02ca498ab53f",
   "metadata": {},
   "outputs": [
    {
     "ename": "NameError",
     "evalue": "name 'hline' is not defined",
     "output_type": "error",
     "traceback": [
      "\u001b[0;31m---------------------------------------------------------------------------\u001b[0m",
      "\u001b[0;31mNameError\u001b[0m                                 Traceback (most recent call last)",
      "\u001b[0;32m/var/folders/n0/0c_0_wmx63zgb42gk3yhdg_m0000gn/T/ipykernel_10306/1586042418.py\u001b[0m in \u001b[0;36m<module>\u001b[0;34m\u001b[0m\n\u001b[1;32m      5\u001b[0m \u001b[0;34m\u001b[0m\u001b[0m\n\u001b[1;32m      6\u001b[0m \u001b[0mscatter\u001b[0m\u001b[0;34m(\u001b[0m\u001b[0mape_nr\u001b[0m\u001b[0;34m,\u001b[0m \u001b[0maper1\u001b[0m\u001b[0;34m,\u001b[0m \u001b[0mlabel\u001b[0m\u001b[0;34m=\u001b[0m\u001b[0;34m\"$\\mu=100, \\sigma=15$\"\u001b[0m\u001b[0;34m)\u001b[0m\u001b[0;34m\u001b[0m\u001b[0;34m\u001b[0m\u001b[0m\n\u001b[0;32m----> 7\u001b[0;31m \u001b[0mhline\u001b[0m\u001b[0;34m(\u001b[0m\u001b[0;36m100\u001b[0m\u001b[0;34m)\u001b[0m\u001b[0;34m\u001b[0m\u001b[0;34m\u001b[0m\u001b[0m\n\u001b[0m\u001b[1;32m      8\u001b[0m \u001b[0mscatter\u001b[0m\u001b[0;34m(\u001b[0m\u001b[0mape_nr\u001b[0m\u001b[0;34m,\u001b[0m \u001b[0maper2\u001b[0m\u001b[0;34m,\u001b[0m \u001b[0mlabel\u001b[0m\u001b[0;34m=\u001b[0m\u001b[0;34m\"$\\mu=100, \\sigma=5$\"\u001b[0m\u001b[0;34m)\u001b[0m\u001b[0;34m\u001b[0m\u001b[0;34m\u001b[0m\u001b[0m\n\u001b[1;32m      9\u001b[0m \u001b[0mlegend\u001b[0m\u001b[0;34m(\u001b[0m\u001b[0;34m)\u001b[0m\u001b[0;34m\u001b[0m\u001b[0;34m\u001b[0m\u001b[0m\n",
      "\u001b[0;31mNameError\u001b[0m: name 'hline' is not defined"
     ]
    },
    {
     "data": {
      "image/png": "[encoded data removed]",
      "text/plain": [
       "<Figure size 432x288 with 1 Axes>"
      ]
     },
     "metadata": {
      "needs_background": "light"
     },
     "output_type": "display_data"
    }
   ],
   "source": [
    "antall_aper = 100\n",
    "aper1 = normal(100, 15, antall_aper)\n",
    "aper2 = normal(150, 5, antall_aper)\n",
    "ape_nr = arange(1, antall_aper+1)\n",
    "\n",
    "scatter(ape_nr, aper1, label=\"$\\mu=100, \\sigma=15$\")\n",
    "hlines(100)\n",
    "scatter(ape_nr, aper2, label=\"$\\mu=100, \\sigma=5$\")\n",
    "legend()\n",
    "show()\n",
    "\n",
    "hist(aper1, 100)\n",
    "hist(aper2, 100)\n",
    "show()"
   ]
  },
  {
   "cell_type": "code",
   "execution_count": 37,
   "id": "590cb807-091e-4a28-851b-1f94c365b442",
   "metadata": {},
   "outputs": [
    {
     "data": {
      "text/plain": [
       "2000"
      ]
     },
     "execution_count": 37,
     "metadata": {},
     "output_type": "execute_result"
    }
   ],
   "source": [
    "len(arange(1, antall_aper+1))"
   ]
  },
  {
   "cell_type": "code",
   "execution_count": 36,
   "id": "218d81a0-ae5f-466d-b7ac-1ec964ce5d94",
   "metadata": {},
   "outputs": [
    {
     "data": {
      "text/plain": [
       "2000"
      ]
     },
     "execution_count": 36,
     "metadata": {},
     "output_type": "execute_result"
    }
   ],
   "source": [
    "len(aper1)"
   ]
  },
  {
   "cell_type": "markdown",
   "id": "6af8875f-3c8b-4b2e-9eef-fcd916f10738",
   "metadata": {},
   "source": [
    "## Ta en potet\n"
   ]
  },
  {
   "cell_type": "code",
   "execution_count": 53,
   "id": "f781226c-6fcd-4c3a-8b06-613cac45b39e",
   "metadata": {},
   "outputs": [
    {
     "name": "stdout",
     "output_type": "stream",
     "text": [
      "181.47772792793265\n"
     ]
    }
   ],
   "source": [
    "from pylab import *\n",
    "\n",
    "potet = normal(200, 40)\n",
    "\n",
    "print(potet)"
   ]
  },
  {
   "cell_type": "code",
   "execution_count": null,
   "id": "690749f4-e710-4613-b461-97dd1f95714f",
   "metadata": {},
   "outputs": [],
   "source": []
  }
 ],
 "metadata": {
  "kernelspec": {
   "display_name": "Python 3 (ipykernel)",
   "language": "python",
   "name": "python3"
  },
  "language_info": {
   "codemirror_mode": {
    "name": "ipython",
    "version": 3
   },
   "file_extension": ".py",
   "mimetype": "text/x-python",
   "name": "python",
   "nbconvert_exporter": "python",
   "pygments_lexer": "ipython3",
   "version": "3.8.12"
  }
 },
 "nbformat": 4,
 "nbformat_minor": 5
}

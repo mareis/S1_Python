{
 "cells": [
  {
   "cell_type": "markdown",
   "id": "8dfd905c-c9a7-435e-9269-7fc7d92532e7",
   "metadata": {},
   "source": [
    "# Gjennomsnitlig vekstfart mellom punkter i et datasett\n",
    "\n",
    "**1** Lese inn datasettet med biblioteket Pandas"
   ]
  },
  {
   "cell_type": "code",
   "execution_count": 14,
   "id": "10001bef-5e6a-4795-be18-d03f1d379a5b",
   "metadata": {},
   "outputs": [
    {
     "data": {
      "text/html": [
       "<div>\n",
       "<style scoped>\n",
       "    .dataframe tbody tr th:only-of-type {\n",
       "        vertical-align: middle;\n",
       "    }\n",
       "\n",
       "    .dataframe tbody tr th {\n",
       "        vertical-align: top;\n",
       "    }\n",
       "\n",
       "    .dataframe thead th {\n",
       "        text-align: right;\n",
       "    }\n",
       "</style>\n",
       "<table border=\"1\" class=\"dataframe\">\n",
       "  <thead>\n",
       "    <tr style=\"text-align: right;\">\n",
       "      <th></th>\n",
       "      <th>År</th>\n",
       "      <th>Månedslønn</th>\n",
       "    </tr>\n",
       "  </thead>\n",
       "  <tbody>\n",
       "    <tr>\n",
       "      <th>0</th>\n",
       "      <td>2015</td>\n",
       "      <td>89900</td>\n",
       "    </tr>\n",
       "    <tr>\n",
       "      <th>1</th>\n",
       "      <td>2016</td>\n",
       "      <td>91990</td>\n",
       "    </tr>\n",
       "    <tr>\n",
       "      <th>2</th>\n",
       "      <td>2017</td>\n",
       "      <td>94610</td>\n",
       "    </tr>\n",
       "    <tr>\n",
       "      <th>3</th>\n",
       "      <td>2018</td>\n",
       "      <td>97740</td>\n",
       "    </tr>\n",
       "    <tr>\n",
       "      <th>4</th>\n",
       "      <td>2019</td>\n",
       "      <td>101410</td>\n",
       "    </tr>\n",
       "    <tr>\n",
       "      <th>5</th>\n",
       "      <td>2020</td>\n",
       "      <td>99650</td>\n",
       "    </tr>\n",
       "    <tr>\n",
       "      <th>6</th>\n",
       "      <td>2021</td>\n",
       "      <td>100000</td>\n",
       "    </tr>\n",
       "  </tbody>\n",
       "</table>\n",
       "</div>"
      ],
      "text/plain": [
       "     År  Månedslønn\n",
       "0  2015       89900\n",
       "1  2016       91990\n",
       "2  2017       94610\n",
       "3  2018       97740\n",
       "4  2019      101410\n",
       "5  2020       99650\n",
       "6  2021      100000"
      ]
     },
     "execution_count": 14,
     "metadata": {},
     "output_type": "execute_result"
    }
   ],
   "source": [
    "import pandas as pd\n",
    "df = pd.read_csv('toppledere.csv',sep = ';')\n",
    "df"
   ]
  },
  {
   "cell_type": "markdown",
   "id": "fe59405a-5526-49f8-96a4-0f63fed52d71",
   "metadata": {},
   "source": [
    "**2** Vi registrer navnene på kolonnene og tilegner dem til noen passende variabelnavn"
   ]
  },
  {
   "cell_type": "code",
   "execution_count": 5,
   "id": "09a8c695-3d6b-4889-83da-426c6b4039d0",
   "metadata": {},
   "outputs": [],
   "source": [
    "x = df[\"År\"]\n",
    "y = df[\"Månedslønn\"]"
   ]
  },
  {
   "cell_type": "markdown",
   "id": "2142a796-97d2-49af-8dde-177c2b467c06",
   "metadata": {},
   "source": [
    "**3** For å få et bedre bilde av datasettet er det lurt å lage et plot (diagram)"
   ]
  },
  {
   "cell_type": "code",
   "execution_count": 8,
   "id": "cba23ff9-2843-4648-8bcf-988055d17b55",
   "metadata": {},
   "outputs": [
    {
     "data": {
      "image/png": "[encoded data removed]",
      "text/plain": [
       "<Figure size 432x288 with 1 Axes>"
      ]
     },
     "metadata": {
      "needs_background": "light"
     },
     "output_type": "display_data"
    }
   ],
   "source": [
    "import matplotlib.pyplot as plt\n",
    "plt.plot(x, y)\n",
    "plt.show()"
   ]
  },
  {
   "cell_type": "markdown",
   "id": "6d85f4e8-6058-48e9-9894-3934b8eae276",
   "metadata": {},
   "source": [
    "**4** Når man har fått kontroll på datasettet er det på tide å analysere det.\n",
    "\n",
    "I dette eksempelet skal vi bestemme den gjennomsnitlig månedlige økinge i månedslønn til toppledere fra 2015 til 2019.\n",
    "Vi benytter den kjente formelen $\\frac{\\Delta y}{\\Delta x} = \\frac{y_2-y_1}{x_2-x_1}$.\n"
   ]
  },
  {
   "cell_type": "code",
   "execution_count": 7,
   "id": "44b59295-cc69-4974-80d8-b878889ca4ca",
   "metadata": {},
   "outputs": [
    {
     "data": {
      "text/html": [
       "<div>\n",
       "<style scoped>\n",
       "    .dataframe tbody tr th:only-of-type {\n",
       "        vertical-align: middle;\n",
       "    }\n",
       "\n",
       "    .dataframe tbody tr th {\n",
       "        vertical-align: top;\n",
       "    }\n",
       "\n",
       "    .dataframe thead th {\n",
       "        text-align: right;\n",
       "    }\n",
       "</style>\n",
       "<table border=\"1\" class=\"dataframe\">\n",
       "  <thead>\n",
       "    <tr style=\"text-align: right;\">\n",
       "      <th></th>\n",
       "      <th>År</th>\n",
       "      <th>Månedslønn</th>\n",
       "    </tr>\n",
       "  </thead>\n",
       "  <tbody>\n",
       "    <tr>\n",
       "      <th>0</th>\n",
       "      <td>2015</td>\n",
       "      <td>89900</td>\n",
       "    </tr>\n",
       "    <tr>\n",
       "      <th>1</th>\n",
       "      <td>2016</td>\n",
       "      <td>91990</td>\n",
       "    </tr>\n",
       "    <tr>\n",
       "      <th>2</th>\n",
       "      <td>2017</td>\n",
       "      <td>94610</td>\n",
       "    </tr>\n",
       "    <tr>\n",
       "      <th>3</th>\n",
       "      <td>2018</td>\n",
       "      <td>97740</td>\n",
       "    </tr>\n",
       "    <tr>\n",
       "      <th>4</th>\n",
       "      <td>2019</td>\n",
       "      <td>101410</td>\n",
       "    </tr>\n",
       "    <tr>\n",
       "      <th>5</th>\n",
       "      <td>2020</td>\n",
       "      <td>99650</td>\n",
       "    </tr>\n",
       "  </tbody>\n",
       "</table>\n",
       "</div>"
      ],
      "text/plain": [
       "     År  Månedslønn\n",
       "0  2015       89900\n",
       "1  2016       91990\n",
       "2  2017       94610\n",
       "3  2018       97740\n",
       "4  2019      101410\n",
       "5  2020       99650"
      ]
     },
     "execution_count": 7,
     "metadata": {},
     "output_type": "execute_result"
    }
   ],
   "source": [
    "df"
   ]
  },
  {
   "cell_type": "markdown",
   "id": "7b8c1959-ab7b-432a-9fc1-eea0b468f9dd",
   "metadata": {},
   "source": [
    "Bruk radnummerene til venstre for å hente riktige verdier."
   ]
  },
  {
   "cell_type": "code",
   "execution_count": 10,
   "id": "aa9adc03-71be-4e57-a3ed-655de9c0b7a9",
   "metadata": {},
   "outputs": [
    {
     "data": {
      "text/plain": [
       "2019"
      ]
     },
     "execution_count": 10,
     "metadata": {},
     "output_type": "execute_result"
    }
   ],
   "source": [
    "x[4]"
   ]
  },
  {
   "cell_type": "markdown",
   "id": "f2e86f0d-82f0-4c9f-92ff-c027611d4560",
   "metadata": {},
   "source": [
    "## Gjennomsnitlige månedlig økinge i månedslønn til toppledere"
   ]
  },
  {
   "cell_type": "code",
   "execution_count": 12,
   "id": "3ca9f822-da18-407a-a7a0-af25ba08b700",
   "metadata": {
    "tags": []
   },
   "outputs": [
    {
     "name": "stdout",
     "output_type": "stream",
     "text": [
      "Gjennomsnitlig vekstfart mellom (2015,89900) og (2019,101410): 2877.5\n"
     ]
    }
   ],
   "source": [
    "x_1 = x[0]\n",
    "y_1 = y[0]\n",
    "\n",
    "#punkt 2\n",
    "x_2 = x[4]\n",
    "y_2 = y[4]\n",
    "\n",
    "#Endring y-verdi\n",
    "delta_y = y_2 - y_1\n",
    "\n",
    "#Endring x-verdi\n",
    "delta_x = x_2 - x_1\n",
    "\n",
    "#gjennomsnitlig vekstfart\n",
    "a = delta_y/delta_x\n",
    "\n",
    "print(f\"Gjennomsnitlig vekstfart mellom ({x_1},{y_1}) og ({x_2},{y_2}): {a:.1f}\")"
   ]
  },
  {
   "cell_type": "markdown",
   "id": "62616d3b-ce57-4c20-a225-9b251fcfca19",
   "metadata": {},
   "source": [
    "**Toppleder har hatt en månedlig økning på 2877.5 kr i måneden fra 2015 til 2019**"
   ]
  },
  {
   "cell_type": "code",
   "execution_count": null,
   "id": "e3e357e2-ecaf-452e-aade-da89d1a44dcd",
   "metadata": {},
   "outputs": [],
   "source": []
  }
 ],
 "metadata": {
  "kernelspec": {
   "display_name": "Python 3 (ipykernel)",
   "language": "python",
   "name": "python3"
  },
  "language_info": {
   "codemirror_mode": {
    "name": "ipython",
    "version": 3
   },
   "file_extension": ".py",
   "mimetype": "text/x-python",
   "name": "python",
   "nbconvert_exporter": "python",
   "pygments_lexer": "ipython3",
   "version": "3.8.12"
  }
 },
 "nbformat": 4,
 "nbformat_minor": 5
}

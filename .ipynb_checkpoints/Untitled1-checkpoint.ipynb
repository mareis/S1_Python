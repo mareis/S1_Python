{
 "cells": [
  {
   "cell_type": "markdown",
   "id": "2d51e8e3-78df-47ae-8040-6bf29e382cd0",
   "metadata": {},
   "source": [
    "# Integraler"
   ]
  },
  {
   "cell_type": "code",
   "execution_count": 22,
   "id": "041efc88-5eec-48b2-92a9-41539d41b829",
   "metadata": {},
   "outputs": [
    {
     "data": {
      "text/plain": [
       "46.5"
      ]
     },
     "execution_count": 22,
     "metadata": {},
     "output_type": "execute_result"
    }
   ],
   "source": [
    "from pylab import *\n",
    "def f(x):\n",
    "    return 16-x**2\n",
    "\n",
    "antall_rekt = 8\n",
    "x_min = 0\n",
    "x_maks = 4\n",
    "dx = (x_maks - x_min)/antall_rekt \n",
    "\n",
    "x = arange(x_min, x_maks, dx)\n",
    "\n",
    "areal_rektangler = f(x)*dx\n",
    "\n",
    "areal_rektangler.sum()"
   ]
  },
  {
   "cell_type": "code",
   "execution_count": 10,
   "id": "58116504-3bf7-499e-b481-f065cee37f21",
   "metadata": {},
   "outputs": [
    {
     "data": {
      "text/plain": [
       "<BarContainer object of 8 artists>"
      ]
     },
     "execution_count": 10,
     "metadata": {},
     "output_type": "execute_result"
    },
    {
     "data": {
      "image/png": "[encoded data removed]",
      "text/plain": [
       "<Figure size 432x288 with 1 Axes>"
      ]
     },
     "metadata": {
      "needs_background": "light"
     },
     "output_type": "display_data"
    }
   ],
   "source": [
    "plot(x, f(x))\n",
    "bar(x, f(x), dx)"
   ]
  },
  {
   "cell_type": "code",
   "execution_count": 3,
   "id": "fc35b102-eb17-4cf7-b8f9-f856c9e4a2bd",
   "metadata": {},
   "outputs": [
    {
     "data": {
      "text/plain": [
       "1.9999999999999967"
      ]
     },
     "execution_count": 3,
     "metadata": {},
     "output_type": "execute_result"
    }
   ],
   "source": [
    "from pylab import *\n",
    "def f(x):\n",
    "    return sin(x)\n",
    "\n",
    "antall_rekt = 20000000\n",
    "x_min = 0\n",
    "x_maks = pi\n",
    "dx = x_maks/antall_rekt \n",
    "x = arange(x_min+dx, x_maks+dx, dx)\n",
    "\n",
    "areal_rektangler = f(x)*dx\n",
    "\n",
    "areal_rektangler.sum()"
   ]
  },
  {
   "cell_type": "code",
   "execution_count": 23,
   "id": "de3732a4-8865-4dc7-a4d6-02b7332bfbdf",
   "metadata": {},
   "outputs": [
    {
     "data": {
      "text/plain": [
       "array([0. , 0.5, 1. , 1.5, 2. , 2.5, 3. , 3.5])"
      ]
     },
     "execution_count": 23,
     "metadata": {},
     "output_type": "execute_result"
    }
   ],
   "source": [
    "arange(x_min, x_maks, dx)"
   ]
  },
  {
   "cell_type": "code",
   "execution_count": 24,
   "id": "cf4926d6-cbe4-4137-8397-65f52e0d4e9a",
   "metadata": {},
   "outputs": [
    {
     "data": {
      "text/plain": [
       "array([8.   , 7.875, 7.5  , 6.875, 6.   , 4.875, 3.5  , 1.875])"
      ]
     },
     "execution_count": 24,
     "metadata": {},
     "output_type": "execute_result"
    }
   ],
   "source": [
    "areal_rektangler\n"
   ]
  },
  {
   "cell_type": "code",
   "execution_count": null,
   "id": "4cd710da-2ce1-4e05-969d-f12087569d71",
   "metadata": {},
   "outputs": [],
   "source": []
  }
 ],
 "metadata": {
  "kernelspec": {
   "display_name": "Python 3 (ipykernel)",
   "language": "python",
   "name": "python3"
  },
  "language_info": {
   "codemirror_mode": {
    "name": "ipython",
    "version": 3
   },
   "file_extension": ".py",
   "mimetype": "text/x-python",
   "name": "python",
   "nbconvert_exporter": "python",
   "pygments_lexer": "ipython3",
   "version": "3.8.12"
  }
 },
 "nbformat": 4,
 "nbformat_minor": 5
}

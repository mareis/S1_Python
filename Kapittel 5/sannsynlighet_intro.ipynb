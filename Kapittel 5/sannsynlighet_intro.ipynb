{
 "cells": [
  {
   "cell_type": "markdown",
   "id": "7bd3daac-6159-4e50-9961-d23c463e8075",
   "metadata": {},
   "source": [
    "# Sannsynlighet\n"
   ]
  },
  {
   "cell_type": "markdown",
   "id": "75dec182-c267-41f6-805c-7e1899b0fda1",
   "metadata": {},
   "source": [
    "## 1.1 To terninger"
   ]
  },
  {
   "cell_type": "markdown",
   "id": "48978f06-96fd-4100-9de1-a75b7a22f30f",
   "metadata": {},
   "source": [
    "```python\n",
    "from pylab import *\n",
    "\n",
    "kast1 = randint(1, 7)\n",
    "print(kast1)\n",
    "```\n",
    "\n",
    "**a)** Les koden ovenfor, og gjett på resultatet."
   ]
  },
  {
   "cell_type": "markdown",
   "id": "e8fcaf99-dee2-4cdb-a4db-bd56100cc818",
   "metadata": {},
   "source": [
    "**b)** Skriv av koden, og kjør programmet tre ganger."
   ]
  },
  {
   "cell_type": "code",
   "execution_count": 1,
   "id": "a46fd143-635b-48f0-8b93-eb017761b5dd",
   "metadata": {},
   "outputs": [],
   "source": [
    "# Løs her"
   ]
  },
  {
   "cell_type": "markdown",
   "id": "28240a5b-4d50-40a5-830c-679aa5d1d43a",
   "metadata": {},
   "source": [
    "**c)** Legg til følgende kode, og gjett hvordan den vil fungere:\n",
    "\n",
    "```python\n",
    "if kast1 == 6:\n",
    "    print(\"Hurra, du fikk sekser!\")\n",
    "```\n",
    "\n",
    "Kjør programmet helt til du ser meldingen Hurra, du fikk sekser! ."
   ]
  },
  {
   "cell_type": "code",
   "execution_count": 2,
   "id": "d15528e1-0b87-4f52-a4a7-745c96ae68e5",
   "metadata": {},
   "outputs": [],
   "source": [
    "# Løs her"
   ]
  },
  {
   "cell_type": "markdown",
   "id": "880df021-8cfc-4638-bd07-654e3ecb8a6f",
   "metadata": {},
   "source": [
    "**d)** Legg til følgende kode, og gjett hvordan den vil fungere:\n",
    "\n",
    "```python\n",
    "else:\n",
    "    print(\"Dessverre, du fikk bare\", kast1)\n",
    "```\n",
    "Kjør programmet noen ganger."
   ]
  },
  {
   "cell_type": "code",
   "execution_count": 3,
   "id": "1be09430-a181-47f1-952a-a310fb4e4f07",
   "metadata": {},
   "outputs": [],
   "source": [
    "# Løs her"
   ]
  },
  {
   "cell_type": "markdown",
   "id": "ee42e78f-a250-476b-8ced-89110bda7ac4",
   "metadata": {},
   "source": [
    "**e)** Fjern kommandoen `print(kast1)` . Legg til `kast2 = randint(1, 7)` på linje 3 og `print(kast1, kast2)` på linje 4. Kjør programmet."
   ]
  },
  {
   "cell_type": "code",
   "execution_count": 4,
   "id": "fa1ddb11-91a6-4817-9b1c-8ba5f4958c87",
   "metadata": {},
   "outputs": [],
   "source": [
    "# Løs her"
   ]
  },
  {
   "cell_type": "markdown",
   "id": "8fc7bc83-ca0d-4d2f-b5cd-7b614ff958a3",
   "metadata": {},
   "source": [
    "**f)** Endre if-setningen til `if kast1 == kast2:`\n",
    " for å undersøke om terning- ene viser likt antall øyne. Skriv ut meldingen To like! når dette skjer."
   ]
  },
  {
   "cell_type": "code",
   "execution_count": 5,
   "id": "36be7520-d7ca-45b4-8a50-8cd82981d908",
   "metadata": {},
   "outputs": [],
   "source": [
    "# Løs her"
   ]
  },
  {
   "cell_type": "markdown",
   "id": "ee003b52-f08c-4d59-99fc-b1522925cab7",
   "metadata": {},
   "source": [
    "**g)** Endre utskriften i else-delen, slik at hvis du får to ulike, vil meldingen *To ulike* skrives ut."
   ]
  },
  {
   "cell_type": "code",
   "execution_count": 6,
   "id": "57b6d92f-136e-4daa-815d-bc1b9c665b88",
   "metadata": {},
   "outputs": [],
   "source": [
    "# Løs her"
   ]
  },
  {
   "cell_type": "markdown",
   "id": "a8aa45a0-cce4-41a6-a1de-53b1d2cec1d2",
   "metadata": {},
   "source": [
    "## 1.2 Telle opp antall jenter"
   ]
  },
  {
   "cell_type": "markdown",
   "id": "1086ef4b-56d4-494d-b9e1-05d0705dcf19",
   "metadata": {},
   "source": [
    "```python\n",
    "from pylab import *\n",
    "\n",
    "for i in range(10): # Simulerer 10 fødsler barn \n",
    "    barn = choice([\"gutt\", \"jente\"])\n",
    "    \n",
    "    if barn == \"jente\": # Hvis barnet er jente\n",
    "        print(barn)\n",
    "```"
   ]
  },
  {
   "cell_type": "markdown",
   "id": "c0ffdb1c-6ba2-40a1-b4c0-f0fb13d5aad2",
   "metadata": {},
   "source": [
    "**a)** Les koden ovenfor, og gjett på resultatet av den."
   ]
  },
  {
   "cell_type": "markdown",
   "id": "8e58450c-7dbb-454b-b1af-1517524f5090",
   "metadata": {},
   "source": [
    "**b)** Skriv av koden ovenfor, og kjør programmet fem ganger."
   ]
  },
  {
   "cell_type": "code",
   "execution_count": 7,
   "id": "16bfb615-f884-4f57-83c4-7c9a46cb8d90",
   "metadata": {},
   "outputs": [],
   "source": [
    "# Løs her"
   ]
  },
  {
   "cell_type": "markdown",
   "id": "534275e8-98d7-47f0-81b9-a49a281bf2a3",
   "metadata": {},
   "source": [
    "---\n",
    "\n",
    "```python\n",
    "from pylab import *\n",
    "\n",
    "jenter = 0\n",
    "\n",
    "for i in range(10):\n",
    "    barn = choice([\"gutt\", \"jente\"]) \n",
    "    if barn == \"jente\":\n",
    "         jenter += 1\n",
    "                       \n",
    "print(\"Jenter:\", jenter)\n",
    "    \n",
    "```"
   ]
  },
  {
   "cell_type": "markdown",
   "id": "4d27eaf2-f217-48f1-a2dc-92c533e6f4d6",
   "metadata": {},
   "source": [
    "**c)** Legg til endringene i koden som vist ovenfor. Kjør programmet noen ganger.\n"
   ]
  },
  {
   "cell_type": "code",
   "execution_count": 8,
   "id": "87506665-2a21-42c7-a565-b1a08de5ac83",
   "metadata": {},
   "outputs": [],
   "source": [
    "# Løs her"
   ]
  },
  {
   "cell_type": "markdown",
   "id": "f9946864-880e-498f-b887-7dca6bb00520",
   "metadata": {},
   "source": [
    "**d)** Legg til kodelinjene nedenfor på riktig plass, slik at du også teller opp antall gutter."
   ]
  },
  {
   "cell_type": "markdown",
   "id": "d31dde0e-3d2a-4616-81b2-46d1dff98ca9",
   "metadata": {},
   "source": [
    "```python\n",
    "gutter += 1                   gutter = 0\n",
    "\n",
    "else:                         print(\"Gutter:\", gutter)\n",
    "```"
   ]
  },
  {
   "cell_type": "code",
   "execution_count": 9,
   "id": "d364b9a8-5a58-451d-8365-3ebb9e8ef032",
   "metadata": {},
   "outputs": [],
   "source": [
    "# Løs her"
   ]
  },
  {
   "cell_type": "markdown",
   "id": "80fc1028-4697-495d-839d-a111a44f98cc",
   "metadata": {},
   "source": [
    "**e)** Endre på `range(10)` slik at du får 1000 fødsler. Regn ut og skriv ut forholdet jenter/gutter inni for-løkka. Hva skjer med dette forholdet når vi ser på stadig flere fødsler?"
   ]
  },
  {
   "cell_type": "code",
   "execution_count": 10,
   "id": "314d3fae-5ece-480f-ba90-fc6ef5ad8768",
   "metadata": {},
   "outputs": [],
   "source": [
    "# Løs her"
   ]
  },
  {
   "cell_type": "markdown",
   "id": "f9763903-1aa6-49a8-b4f3-ef61fc73fd9a",
   "metadata": {},
   "source": [
    "## 1.3 Kuler i eske – med tilbakelegging"
   ]
  },
  {
   "cell_type": "markdown",
   "id": "56d5de62-09ba-4335-805a-8800272c4ee8",
   "metadata": {},
   "source": [
    "I en eske ligger det 2 blå og 3 røde kuler. Vi trekker to kuler med tilbakelegging. Det betyr at vi legger kula tilbake i esken, etter hvert trekk. Vi skal bestemme sannsynligheten for hendelsen «minst én rød kule».\n",
    "\n",
    "**a)** Skriv av koden nedenfor, og kjør programmet noen ganger.\n",
    "\n",
    "```python\n",
    "from pylab import *\n",
    "\n",
    "kuler = 3*[\"r\"] + 2*[\"b\"]\n",
    "print(kuler)\n",
    "\n",
    "kule1 = choice(kuler) # Velg en kule tilfeldig \n",
    "print(kule1)\n",
    "```"
   ]
  },
  {
   "cell_type": "code",
   "execution_count": 11,
   "id": "1adcbe6a-0ffd-429b-b571-1bf717aa3de7",
   "metadata": {},
   "outputs": [],
   "source": [
    "# Løs her"
   ]
  },
  {
   "cell_type": "markdown",
   "id": "6fce1350-937a-4c88-b739-bb8d99700ec8",
   "metadata": {},
   "source": [
    "**b)** Trekk en kule til ved å legge til kodelinja `kule2 = choice(kuler)`."
   ]
  },
  {
   "cell_type": "code",
   "execution_count": 12,
   "id": "72dd3fcf-1ea7-4b19-b8c4-1a4eb9cbcffe",
   "metadata": {},
   "outputs": [],
   "source": [
    "# Løs her"
   ]
  },
  {
   "cell_type": "markdown",
   "id": "05613324-fbd4-423f-a029-a554139c3086",
   "metadata": {},
   "source": [
    "**c)** Erstatt nå linjen `print(kule1)` med kodelinja `print(kule1, kule2)`` ."
   ]
  },
  {
   "cell_type": "code",
   "execution_count": 13,
   "id": "bca85685-d167-412d-9e6e-959c078919fb",
   "metadata": {},
   "outputs": [],
   "source": [
    "# Løs her"
   ]
  },
  {
   "cell_type": "markdown",
   "id": "7167f61b-51bf-4708-9c50-f8ff62f737f5",
   "metadata": {},
   "source": [
    "**d)** Skriv en for-løkke for å gjenta forsøket med to kuler 10 ganger."
   ]
  },
  {
   "cell_type": "code",
   "execution_count": 14,
   "id": "facac58c-c14a-4b7c-bf85-af1402e7b8a6",
   "metadata": {},
   "outputs": [],
   "source": [
    "# Løs her"
   ]
  },
  {
   "cell_type": "markdown",
   "id": "9f98b98b-c4ec-4ce3-81bc-f3a656278ba2",
   "metadata": {},
   "source": [
    "**e)** Bruk kodelinja `if kule1 == \"r\" or kule2 == \"r\":` for å undersøke om du fikk minst én rød kule. Skriv ut meldingen *Minst en rød hver gang hendelsen inntreffer*.\n"
   ]
  },
  {
   "cell_type": "code",
   "execution_count": 15,
   "id": "765fa258-9d57-46ea-8daa-8f5b20e6ba33",
   "metadata": {},
   "outputs": [],
   "source": [
    "# Løs her"
   ]
  },
  {
   "cell_type": "markdown",
   "id": "daf20a70-0bf9-4146-82f8-aa3dbfb88d9d",
   "metadata": {},
   "source": [
    "**f)** Endre løkka til 1000 gjentakelser og tell opp antall ganger hendelsen inntreffer. Bruk dette til å anslå sannsynligheten for «minst én rød kule».\n",
    "26"
   ]
  },
  {
   "cell_type": "code",
   "execution_count": 16,
   "id": "5f858e47-2468-4cca-93e2-b2c01bc9b7f1",
   "metadata": {},
   "outputs": [],
   "source": [
    "# Løs her"
   ]
  },
  {
   "cell_type": "markdown",
   "id": "f19154a6-7d88-4d6c-9f55-e45bd1e21eb7",
   "metadata": {},
   "source": [
    "## 1.4 Kuler i eske – uten tilbakelegging"
   ]
  },
  {
   "cell_type": "markdown",
   "id": "3ff39f63-65d4-44ee-bf1f-4a0098c0f43d",
   "metadata": {},
   "source": [
    "I en eske ligger det 2 blå, 3 røde og 4 grønne kuler. Vi trekker to kuler uten tilbakelegging. Vi skal utforske hendelsen «andre kule er ikke grønn».\n",
    "\n",
    "**a)** Skriv av koden nedenfor, og kjør programmet noen ganger.\n"
   ]
  },
  {
   "cell_type": "markdown",
   "id": "526a125b-35f4-4974-beb8-b8e58c9856a4",
   "metadata": {},
   "source": [
    "```python\n",
    "from pylab import *\n",
    "\n",
    "kuler = 2*[\"b\"] + 3*[\"r\"] + 4*[\"g\"] \n",
    "print(kuler) # Kulene før 1. trekk\n",
    "\n",
    "kule1 = choice(kuler)\n",
    "kuler.remove(kule1) # Fjern kula fra esken \n",
    "print(kuler) # Kulene etter 1. trekk\n",
    "```"
   ]
  },
  {
   "cell_type": "code",
   "execution_count": 17,
   "id": "24639c52-8390-4e03-a1fc-efac9ca4376f",
   "metadata": {},
   "outputs": [],
   "source": [
    "# Løs her"
   ]
  },
  {
   "cell_type": "markdown",
   "id": "22899c8a-106d-4f2e-b961-35174f5d5177",
   "metadata": {},
   "source": [
    "**b)** Trekk en kule til ved å legge til kodelinjene `kule2 = choice(kuler)` og `kuler.remove(kule2)` i slutten av programmet."
   ]
  },
  {
   "cell_type": "code",
   "execution_count": 18,
   "id": "4cec002c-8a22-4e62-b7c1-de70c2b1ac0d",
   "metadata": {},
   "outputs": [],
   "source": [
    "# Løs her"
   ]
  },
  {
   "cell_type": "markdown",
   "id": "edcccc27-d358-4a68-a50a-1e669b8e232b",
   "metadata": {},
   "source": [
    "**c)** For å se kulene som nå er igjen i esken, legg til kodelinja `print(kuler)` ."
   ]
  },
  {
   "cell_type": "code",
   "execution_count": 19,
   "id": "679b1445-ea03-4c7d-89c8-3b02bc8f0eaa",
   "metadata": {},
   "outputs": [],
   "source": [
    "# Løs her "
   ]
  },
  {
   "cell_type": "markdown",
   "id": "fe14efa6-0fdd-4d21-b3b4-1be1862f62ab",
   "metadata": {},
   "source": [
    "**d)** Legg til kodelinja `if kule2 == \"g\":` for å undersøke om den andre kula var grønn. Skriv ut Andre kule var grønn. , dersom dette var tilfellet."
   ]
  },
  {
   "cell_type": "code",
   "execution_count": 20,
   "id": "add99017-1b85-4795-aadf-511672f477e5",
   "metadata": {},
   "outputs": [],
   "source": [
    "# Løs her"
   ]
  },
  {
   "cell_type": "markdown",
   "id": "958ff31a-0351-412b-aad6-cb30d97dffb3",
   "metadata": {},
   "source": [
    "Koden `not kule2 == \"g\"` betyr «andre kule er ikke grønn»."
   ]
  },
  {
   "cell_type": "markdown",
   "id": "b6e94b3d-ec30-4ce8-a4a5-bebedde3bdb9",
   "metadata": {},
   "source": [
    "**e)** Endre if-setningen til `if not kule2 == \"g\":` , og endre den tilhørende utskriften til Andre kule var ikke grønn."
   ]
  },
  {
   "cell_type": "code",
   "execution_count": 21,
   "id": "a1ac86cc-03f6-43fb-bc52-10602f39f27e",
   "metadata": {},
   "outputs": [],
   "source": [
    "# Løs her"
   ]
  },
  {
   "cell_type": "markdown",
   "id": "f0dbf1ab-c3e3-414d-b0b5-493830863367",
   "metadata": {},
   "source": [
    "**f)** Fjern alle tidligere print -kommandoer, men legg til kommandoen `print(kule1, kule2)` inni if-setningen."
   ]
  },
  {
   "cell_type": "code",
   "execution_count": 22,
   "id": "ff4a0a15-6abb-48ee-80a4-bb797c3ae116",
   "metadata": {},
   "outputs": [],
   "source": [
    "# Løs her"
   ]
  },
  {
   "cell_type": "markdown",
   "id": "680b1c29-b094-4731-b93e-9e15f826f416",
   "metadata": {},
   "source": [
    "**g)** Lag en løkke for å gjenta dette forsøket 100 ganger. Et utfall som gjør at den andre kula ikke er grønn, er for eksempel g b . Hvor mange forskjellige slike utfall ser du i utskriften?"
   ]
  },
  {
   "cell_type": "code",
   "execution_count": 23,
   "id": "cb1e76cb-7f9f-4366-b8b3-2bb25a298140",
   "metadata": {},
   "outputs": [],
   "source": [
    "# Løs her"
   ]
  },
  {
   "cell_type": "markdown",
   "id": "74074be6-ae82-4e55-a08c-6044167a3fbe",
   "metadata": {},
   "source": [
    "## 1.5 To geiter og en bil"
   ]
  },
  {
   "cell_type": "markdown",
   "id": "9c7080f7-7517-4f18-8ac8-d5999bf4ee95",
   "metadata": {
    "tags": []
   },
   "source": [
    "Et spill begynner med at en deltaker velger en av tre dører. Bak to av dørene befinner det seg en geit. Bak den siste døra befinner det seg en bil."
   ]
  },
  {
   "cell_type": "markdown",
   "id": "10f15e10-6b81-4bf5-8d63-2be029570c32",
   "metadata": {},
   "source": [
    "**a)** Skriv av koden nedenfor, og kjør programmet flere ganger.\n",
    "\n",
    "```python\n",
    "from pylab import *\n",
    "dører = [\"geit\", \"geit\", \"bil\"]\n",
    "valg = choice(dører) # Du velger tilfeldig en dør \n",
    "print(valg)\n",
    "```"
   ]
  },
  {
   "cell_type": "code",
   "execution_count": 24,
   "id": "40503a2b-0058-4a73-b2fa-b0ae1026a867",
   "metadata": {},
   "outputs": [],
   "source": [
    "# Løs her"
   ]
  },
  {
   "cell_type": "markdown",
   "id": "5a18882b-38a6-4c0a-b31b-d98a17b5348d",
   "metadata": {},
   "source": [
    "**b)** Bruk blant annet kodelinja `if valg == \"bil\":` til å skrive ut meldingen *Gratulerer! Du vant en bil!* , dersom deltakeren vinner bilen."
   ]
  },
  {
   "cell_type": "code",
   "execution_count": 25,
   "id": "d26e67e7-6cfc-4a7d-b0c7-04fbe5fe7499",
   "metadata": {},
   "outputs": [],
   "source": [
    "# Løs her"
   ]
  },
  {
   "cell_type": "markdown",
   "id": "93b071b9-3722-4427-9895-184b347a3727",
   "metadata": {},
   "source": [
    "**c)** Legg til kode slik at når deltakeren ikke vinner bilen, skriver programmet ut meldingen Dessverre, du vant en geit."
   ]
  },
  {
   "cell_type": "code",
   "execution_count": 26,
   "id": "ee7f839c-470f-4a8e-914d-cacbad890f6a",
   "metadata": {},
   "outputs": [],
   "source": [
    "# Løs her"
   ]
  },
  {
   "cell_type": "markdown",
   "id": "29d817ac-c310-4a39-948b-64fbf7a7ef73",
   "metadata": {},
   "source": [
    "---\n",
    "\n",
    "Vi utvider nå spillet. Etter at deltakeren har valgt en dør, så åpner spillverten en annen dør som han vet det er en geit bak. Deltakeren blir spurt om han ønsker å bytte dør, eller beholde sitt opprinnelige valg. Etter at deltakeren har valgt å bytte eller å la være, så åpnes døren deltakeren bestemte seg for\n",
    "\n",
    "\n",
    "```python\n",
    "dører.remove(\"geit\") # Spillverten åpner en dør med geit\n",
    "dører.remove(valg) # Fjern det opprinnelige valget\n",
    "valg = choice(dører) # Velg den døra som står igjen\n",
    "```\n",
    "\n",
    "Koden ovenfor simulerer at spillverten åpner en dør med en geit bak, og at spilleren bytter dør."
   ]
  },
  {
   "cell_type": "markdown",
   "id": "f86b44d1-5f6c-4b07-89e7-90385db7f0e3",
   "metadata": {},
   "source": [
    "**d)** Legg til de tre kodelinjene ovenfor under kodelinja `print(valg)` . Kjør programmet noen ganger."
   ]
  },
  {
   "cell_type": "code",
   "execution_count": 27,
   "id": "0189d1ab-5435-45d7-b694-78a544cabf08",
   "metadata": {},
   "outputs": [],
   "source": [
    "# Løs her"
   ]
  },
  {
   "cell_type": "markdown",
   "id": "dcf2a443-5090-46ad-9ff8-a152139e994c",
   "metadata": {},
   "source": [
    "Vi utforsker videre sannsynligheten for å vinne bilen, dersom deltakeren alltid bytter dør.\n",
    "\n",
    "**e)** Lag en løkke som gjentar forsøket 20 ganger. Skriv ut en melding i hver runde, for eksempel Du vant en bil/geit. ."
   ]
  },
  {
   "cell_type": "code",
   "execution_count": 28,
   "id": "b5a1dbbb-6291-4196-a30c-2e226082eb38",
   "metadata": {},
   "outputs": [],
   "source": [
    "# Løs her"
   ]
  },
  {
   "cell_type": "markdown",
   "id": "fa676275-62dd-4bec-93a6-fac191708b3a",
   "metadata": {},
   "source": [
    "**f)** Lag variabelen `antall_biler` , og bruk den til å telle opp antall ganger du vinner bil. Skriv ut resultatet etter løkka."
   ]
  },
  {
   "cell_type": "code",
   "execution_count": 29,
   "id": "539f4c0a-7a62-4b9a-a414-879a8c9d64be",
   "metadata": {},
   "outputs": [],
   "source": [
    "# Løs her"
   ]
  },
  {
   "cell_type": "markdown",
   "id": "bfde5ffb-b0f9-4683-b5e8-d4d8db582d5c",
   "metadata": {},
   "source": [
    "**g)** Endre nå antall gjentakelser på løkka til 1000. Regn ut forholdet nedenfor, og skriv det ut.\n",
    "\n",
    "$$\\frac{\\text{Antall biler}}{1000}$$\n",
    "\n",
    "Hvilken brøk nærmer dette desimaltallet seg?"
   ]
  },
  {
   "cell_type": "code",
   "execution_count": 30,
   "id": "88a96582-6681-4216-8521-1349c114e0f4",
   "metadata": {},
   "outputs": [],
   "source": [
    "# Løs her"
   ]
  },
  {
   "cell_type": "markdown",
   "id": "cf5d4558-59b3-4d8f-a981-a0e219780004",
   "metadata": {},
   "source": [
    "---"
   ]
  },
  {
   "cell_type": "markdown",
   "id": "57fc37db-8936-4d21-9ea4-742ddb76435a",
   "metadata": {},
   "source": [
    "Hva er den beste strategien? Beholde, eller bytte dør?"
   ]
  },
  {
   "cell_type": "markdown",
   "id": "9c2df36b-a218-4600-92ad-3279688a8fbd",
   "metadata": {},
   "source": [
    "**Det er best å bytte dør**"
   ]
  },
  {
   "cell_type": "markdown",
   "id": "583fd57e-30c4-44b3-aaa2-0198fea6a41d",
   "metadata": {},
   "source": [
    "---"
   ]
  },
  {
   "cell_type": "markdown",
   "id": "90f98f9a-3c8e-4567-a2ee-32fa6aaf71f6",
   "metadata": {},
   "source": [
    "## 1.6 Familier med tre barn. Søylediagram."
   ]
  },
  {
   "cell_type": "markdown",
   "id": "29f41c33-550a-477b-8730-1798b28b5963",
   "metadata": {},
   "source": [
    "```python\n",
    "from pylab import *\n",
    "\n",
    "kjønn = [\"gutt\", \"jente\"]\n",
    "# Lag en trebarnsfamilie og tell opp antall gutter \n",
    "\n",
    "gutter = 0\n",
    "\n",
    "for i in range(3):\n",
    "    if choice(kjønn) == \"gutt\": \n",
    "        gutter += 1\n",
    "\n",
    "print(gutter)\n",
    "```"
   ]
  },
  {
   "cell_type": "markdown",
   "id": "afd70666-deb2-4826-8794-ccfbd95970f1",
   "metadata": {},
   "source": [
    "**a)** Les koden ovenfor, og gjett på resultatet."
   ]
  },
  {
   "cell_type": "markdown",
   "id": "422edf46-3210-4980-ad51-d8110058e8a0",
   "metadata": {},
   "source": [
    "**b)** Skriv av koden, og kjør programmet."
   ]
  },
  {
   "cell_type": "code",
   "execution_count": 31,
   "id": "eb20393f-88bf-4104-9a7d-268137c5c366",
   "metadata": {},
   "outputs": [],
   "source": [
    "# Løs her"
   ]
  },
  {
   "cell_type": "markdown",
   "id": "2b6f3702-87c0-4af2-b4e5-d25d2bcf2d85",
   "metadata": {},
   "source": [
    "**c)** Legg til en utskrift på formen *2 gutter og 1 jente* ."
   ]
  },
  {
   "cell_type": "code",
   "execution_count": 32,
   "id": "c0cb97b3-30da-435d-9152-7eb8b4e3f3b7",
   "metadata": {},
   "outputs": [],
   "source": [
    "# Løs her"
   ]
  },
  {
   "cell_type": "markdown",
   "id": "5a3c8bd9-a763-47b3-beb4-ec72f3082dac",
   "metadata": {},
   "source": [
    "Vi skal nå lage et søylediagram for å vise hvordan antall gutter fordeler seg i familier med tre barn."
   ]
  },
  {
   "cell_type": "markdown",
   "id": "d4b6eda0-9809-411a-9f69-68f8daa27db3",
   "metadata": {},
   "source": [
    "**d)** Legg til `antall_gutter = [0, 0, 0, 0]` ovenfor `kjønn = ...` ."
   ]
  },
  {
   "cell_type": "code",
   "execution_count": 33,
   "id": "1c0134a4-0109-4ff6-a030-8d88190779a4",
   "metadata": {},
   "outputs": [],
   "source": [
    "# Løs her"
   ]
  },
  {
   "cell_type": "markdown",
   "id": "bc0f61a1-43b1-4298-b4f3-e6218df4de89",
   "metadata": {},
   "source": [
    "**e)** Legg til `antall_gutter[gutter] += 1` nedenfor for-løkka. Dette betyr at dersom det for eksempel var 2 gutter, så øker vi frekvensen på trebarns- familier med 2 gutter med 1."
   ]
  },
  {
   "cell_type": "code",
   "execution_count": 34,
   "id": "76c6954a-e46c-43f6-a78c-c706206ec75d",
   "metadata": {},
   "outputs": [],
   "source": [
    "# Løs her"
   ]
  },
  {
   "cell_type": "markdown",
   "id": "3426148c-fd8b-4a06-ae03-3ee9b69826cb",
   "metadata": {},
   "source": [
    "**f)** Legg til `tekst = [\"Bare jenter\", \"1 gutt\", \"2 gutter\", \"3 gutter\"]` ovenfor `kjønn = ...` ."
   ]
  },
  {
   "cell_type": "code",
   "execution_count": 35,
   "id": "8c15a77a-2534-4c00-ba90-def7b4900f75",
   "metadata": {},
   "outputs": [],
   "source": [
    "# Løs her"
   ]
  },
  {
   "cell_type": "markdown",
   "id": "0b14ba2e-0a35-45d1-a669-19317547b067",
   "metadata": {},
   "source": [
    "**g)** Lag en for-løkke slik at du simulerer 100 familier med tre barn. Bare koden som skal gjentas for hver familie, må være en del av denne løkka."
   ]
  },
  {
   "cell_type": "code",
   "execution_count": 36,
   "id": "14f4001f-a543-443d-8f2b-5ea85bd28c79",
   "metadata": {},
   "outputs": [],
   "source": [
    "# Løs her"
   ]
  },
  {
   "cell_type": "markdown",
   "id": "40565e3c-4d3d-4785-86b9-99765dbaba40",
   "metadata": {},
   "source": [
    "**h)** Nederst i koden, legg til linja `bar(tekst, antall_gutter)` ."
   ]
  },
  {
   "cell_type": "code",
   "execution_count": 37,
   "id": "a5eb8df8-911b-4a62-9fd1-a279d33dee07",
   "metadata": {},
   "outputs": [],
   "source": [
    "# Løs her"
   ]
  },
  {
   "cell_type": "code",
   "execution_count": null,
   "id": "5301adf8-bc42-42f0-a0f9-a89263f2e18b",
   "metadata": {},
   "outputs": [],
   "source": []
  },
  {
   "cell_type": "code",
   "execution_count": 13,
   "id": "1486f6a4-683e-4681-84b9-9b47e7fa1ecd",
   "metadata": {},
   "outputs": [
    {
     "name": "stdout",
     "output_type": "stream",
     "text": [
      "mynt\n"
     ]
    }
   ],
   "source": []
  },
  {
   "cell_type": "code",
   "execution_count": null,
   "id": "beb4bd1b-2d2b-4f19-98fc-332927014c41",
   "metadata": {},
   "outputs": [],
   "source": []
  },
  {
   "cell_type": "code",
   "execution_count": null,
   "id": "f17a9a7f-44e9-4b77-854f-515177c7f3eb",
   "metadata": {},
   "outputs": [],
   "source": []
  }
 ],
 "metadata": {
  "kernelspec": {
   "display_name": "Python 3 (ipykernel)",
   "language": "python",
   "name": "python3"
  },
  "language_info": {
   "codemirror_mode": {
    "name": "ipython",
    "version": 3
   },
   "file_extension": ".py",
   "mimetype": "text/x-python",
   "name": "python",
   "nbconvert_exporter": "python",
   "pygments_lexer": "ipython3",
   "version": "3.8.13"
  }
 },
 "nbformat": 4,
 "nbformat_minor": 5
}

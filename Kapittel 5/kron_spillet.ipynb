{
 "cells": [
  {
   "cell_type": "markdown",
   "id": "b735bf81-bcf0-4c03-bbbd-2932faf3066c",
   "metadata": {},
   "source": [
    "# Kron-spillet"
   ]
  },
  {
   "cell_type": "markdown",
   "id": "96103adb-6f74-4e0e-abd1-571cc3175551",
   "metadata": {},
   "source": [
    "## Kronestykke:"
   ]
  },
  {
   "cell_type": "code",
   "execution_count": 4,
   "id": "cfbe6677-5c00-4965-aa40-1f70d463f58d",
   "metadata": {},
   "outputs": [
    {
     "name": "stdout",
     "output_type": "stream",
     "text": [
      "kron\n"
     ]
    }
   ],
   "source": [
    "from pylab import *\n",
    "\n",
    "kronestykke = [\"kron\", \"mynt\"]\n",
    "kast = choice(kronestykke)\n",
    "\n",
    "print(kast)"
   ]
  },
  {
   "cell_type": "markdown",
   "id": "cd93b074-24cf-4e22-8136-b34380b46437",
   "metadata": {
    "jp-MarkdownHeadingCollapsed": true,
    "tags": []
   },
   "source": [
    "Spiller 1 | Spiller 2\n",
    "-|-\n",
    "13 | 7\n",
    "10 | 6\n",
    "5 | 0\n",
    "13 | 8\n",
    "1 | 0\n",
    "17 | 9\n",
    "11 | 8\n",
    "12 | 6\n",
    "**82**| **44**"
   ]
  },
  {
   "cell_type": "code",
   "execution_count": 9,
   "id": "93d54e7b-32b2-4040-8f15-13bd6e32669b",
   "metadata": {},
   "outputs": [
    {
     "data": {
      "text/plain": [
       "65.07936507936508"
      ]
     },
     "execution_count": 9,
     "metadata": {},
     "output_type": "execute_result"
    }
   ],
   "source": [
    "82/(82+44)*100"
   ]
  },
  {
   "cell_type": "code",
   "execution_count": null,
   "id": "fa5f1993-01c2-4887-b49d-f09a0eba8766",
   "metadata": {},
   "outputs": [],
   "source": []
  }
 ],
 "metadata": {
  "kernelspec": {
   "display_name": "Python 3 (ipykernel)",
   "language": "python",
   "name": "python3"
  },
  "language_info": {
   "codemirror_mode": {
    "name": "ipython",
    "version": 3
   },
   "file_extension": ".py",
   "mimetype": "text/x-python",
   "name": "python",
   "nbconvert_exporter": "python",
   "pygments_lexer": "ipython3",
   "version": "3.8.12"
  }
 },
 "nbformat": 4,
 "nbformat_minor": 5
}

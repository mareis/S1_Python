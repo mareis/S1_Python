{
 "cells": [
  {
   "cell_type": "markdown",
   "id": "26d97215-b1ba-4b26-ab36-9a78b520ef09",
   "metadata": {},
   "source": [
    "### Utforsk \n",
    "\n",
    "Vi kaster en vanlig terning én gang og definerer følgende hendelser:\n",
    "\n",
    "- A: Antall øyne er delelig med tre\n",
    "- B: Antall øyne er delelig med to\n",
    "- C: Antall øyne er delelig med to eller tre\n",
    "- D: Antall øyne er delelig med to og tre\n",
    "\n",
    "Programmet nedenfor simmulerer 100 000 terningkast for å bekrefte at \n",
    "\n",
    "- $P(A) = \\frac{2}{6}=\\frac{1}{3}$\n",
    "- $P(B) = \\frac{3}{6}=\\frac{1}{2}$\n",
    "- $P(C) = \\frac{4}{6}=\\frac{2}{3}$\n",
    "- $P(D) = \\frac{1}{6}$"
   ]
  },
  {
   "cell_type": "code",
   "execution_count": 45,
   "id": "123d5a58-624c-46bc-ad98-a103e0990b16",
   "metadata": {},
   "outputs": [
    {
     "name": "stdout",
     "output_type": "stream",
     "text": [
      "P(A) = 0.34\n",
      "P(B) = 0.52\n",
      "P(C) = 0.66\n",
      "P(D) = 0.20\n"
     ]
    }
   ],
   "source": [
    "from pylab import *\n",
    "\n",
    "antall_kast = 10**2\n",
    "\n",
    "terning = [1, 2, 3, 4, 5, 6]\n",
    "\n",
    "delelig_på_3 = 0;\n",
    "delelig_på_2 = 0;\n",
    "delelig_på_2_eller_3 = 0\n",
    "delelig_på_2_og_3 = 0\n",
    "\n",
    "\n",
    "for kast in range(antall_kast):\n",
    "    terningkast = choice(terning)\n",
    "    \n",
    "    if terningkast % 3 == 0:\n",
    "        delelig_på_3 += 1\n",
    "        \n",
    "    if terningkast % 2 == 0:\n",
    "        delelig_på_2 += 1\n",
    "        \n",
    "    if terningkast % 3 == 0 or terningkast % 2 == 0:\n",
    "        delelig_på_2_eller_3 += 1\n",
    "        \n",
    "    if terningkast % 3 == 0 and terningkast % 2 == 0:\n",
    "        delelig_på_2_og_3 += 1\n",
    "          \n",
    "print(f\"P(A) = {delelig_på_3/antall_kast:.2f}\")\n",
    "print(f\"P(B) = {delelig_på_2/antall_kast:.2f}\")\n",
    "print(f\"P(C) = {delelig_på_2_eller_3/antall_kast:.2f}\")\n",
    "print(f\"P(D) = {delelig_på_2_og_3/antall_kast:.2f}\")\n"
   ]
  },
  {
   "cell_type": "code",
   "execution_count": 41,
   "id": "2da93357-c0dd-4b73-a07b-db8785c5b0dd",
   "metadata": {},
   "outputs": [
    {
     "data": {
      "text/plain": [
       "47"
      ]
     },
     "execution_count": 41,
     "metadata": {},
     "output_type": "execute_result"
    }
   ],
   "source": [
    "delelig_på_2"
   ]
  },
  {
   "cell_type": "code",
   "execution_count": 42,
   "id": "e2aeeef2-3203-41ad-83cf-721b6a337121",
   "metadata": {},
   "outputs": [
    {
     "data": {
      "text/plain": [
       "33"
      ]
     },
     "execution_count": 42,
     "metadata": {},
     "output_type": "execute_result"
    }
   ],
   "source": [
    "delelig_på_3"
   ]
  },
  {
   "cell_type": "code",
   "execution_count": 43,
   "id": "e56aa1cd-36bc-4ae5-937a-caf561a7cb6f",
   "metadata": {},
   "outputs": [
    {
     "data": {
      "text/plain": [
       "61"
      ]
     },
     "execution_count": 43,
     "metadata": {},
     "output_type": "execute_result"
    }
   ],
   "source": [
    "delelig_på_2_eller_3"
   ]
  },
  {
   "cell_type": "code",
   "execution_count": 44,
   "id": "9bc9f6e9-d48b-449b-a55d-6a52d3793b73",
   "metadata": {},
   "outputs": [
    {
     "data": {
      "text/plain": [
       "19"
      ]
     },
     "execution_count": 44,
     "metadata": {},
     "output_type": "execute_result"
    }
   ],
   "source": [
    "delelig_på_2_og_3"
   ]
  },
  {
   "cell_type": "code",
   "execution_count": null,
   "id": "fa1692f5-aa4b-4a7f-b7ba-b2939d2fb04e",
   "metadata": {},
   "outputs": [],
   "source": []
  },
  {
   "cell_type": "code",
   "execution_count": null,
   "id": "3516aefa-a37f-495e-a4a9-c099c936a080",
   "metadata": {},
   "outputs": [],
   "source": []
  }
 ],
 "metadata": {
  "kernelspec": {
   "display_name": "Python 3 (ipykernel)",
   "language": "python",
   "name": "python3"
  },
  "language_info": {
   "codemirror_mode": {
    "name": "ipython",
    "version": 3
   },
   "file_extension": ".py",
   "mimetype": "text/x-python",
   "name": "python",
   "nbconvert_exporter": "python",
   "pygments_lexer": "ipython3",
   "version": "3.8.12"
  }
 },
 "nbformat": 4,
 "nbformat_minor": 5
}

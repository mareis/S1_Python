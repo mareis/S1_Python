{
 "cells": [
  {
   "cell_type": "markdown",
   "id": "f3471ce9-1938-4d23-b28c-09338f7896c6",
   "metadata": {},
   "source": [
    "# 5 Kombinatorikk og sannsynlighetsregning"
   ]
  },
  {
   "cell_type": "markdown",
   "id": "3580d4d3-9e28-4ef1-843e-c57170d138c1",
   "metadata": {},
   "source": [
    "## 5.3 Sannsynlighet"
   ]
  },
  {
   "cell_type": "markdown",
   "id": "00d3aa54-18f8-4a1c-93ad-b601e4e792c1",
   "metadata": {},
   "source": [
    "### Utforsk \n",
    "\n",
    "Den relative frekvensen viser hvor mye én del utgjør av helheten. Nedenfor ser du et program skrevet i Python\n",
    "\n",
    "```python\n",
    "from pylab import *\n",
    "\n",
    "N = 10000\n",
    "antall_kron = 0\n",
    "kronestykke = [\"kron\", \"mynt\"]\n",
    "\n",
    "for i in range(N):\n",
    "    kast = choice(kronestykke)\n",
    "    if kast == \"kron\":\n",
    "        antall_kron += 1\n",
    "        \n",
    "relativ_frekvens = antall_kron/N\n",
    "\n",
    "print(relativ_frekvens)\n",
    "````\n",
    "\n",
    "- Forklar hva programmet gjør.\n",
    "- Kjør programmet og varier verdien av N mellom 3 og 1 000 000.\n",
    "- Kommenter hva som skjer med den relative frekvensen når vi øker verdien av N"
   ]
  },
  {
   "cell_type": "markdown",
   "id": "7bbae2ec-fedd-4098-8d20-e0d782368183",
   "metadata": {
    "tags": []
   },
   "source": [
    "---\n",
    "### Eksempel 7\n",
    "\n",
    "Skriv et program simulerer terningkast og den den relative frekvensen for seksere når man kaster\n",
    "\n",
    "- 10 ganger\n",
    "- 1000 ganger\n",
    "- 1 000 000 ganger\n",
    "\n"
   ]
  },
  {
   "cell_type": "code",
   "execution_count": 1,
   "id": "122064d7-fe6f-4bba-947e-b22c89daef41",
   "metadata": {},
   "outputs": [
    {
     "name": "stdout",
     "output_type": "stream",
     "text": [
      "Relativ frekvens for 6-er ved 1000000 kast: 0.16682\n"
     ]
    }
   ],
   "source": [
    "from pylab import *\n",
    "\n",
    "N = 1000000\n",
    "terning = [1, 2, 3, 4, 5, 6]\n",
    "antall_seksere = 0\n",
    "\n",
    "for i in range(N):\n",
    "    kast = choice(terning)\n",
    "    if kast == 6:\n",
    "        antall_seksere += 1\n",
    "        \n",
    "relativ_frekvens = antall_seksere/N\n",
    "\n",
    "print(f\"Relativ frekvens for 6-er ved {N} kast: {relativ_frekvens}\")"
   ]
  },
  {
   "cell_type": "markdown",
   "id": "12b4305a-6944-4726-87ea-c83249506d55",
   "metadata": {
    "tags": []
   },
   "source": [
    "Vi ser at når vi kaster veldig mange ganger, vil den relative frekvensen nærme stabilisere sef på $0.1666...\\approx \\frac{1}{6} $\n",
    "\n",
    "Prøv deg frem med ulike verdier av N."
   ]
  },
  {
   "cell_type": "markdown",
   "id": "7e9dd7eb-febe-4d93-bbae-8a1eb78837d6",
   "metadata": {
    "tags": []
   },
   "source": [
    "### Arange og Zeros \n",
    "\n",
    "I eksempel 9 brukes arange og zeros fra pylab-biblioteket.\n",
    "\n",
    "zeros brukes til å å lage startverdier for frekvensene av antall øyne. Indeksene representerer antall øyne. Får vi 3+4=7 øyne så legger vi til 1 i plass 7 (indeks 7)  "
   ]
  },
  {
   "cell_type": "code",
   "execution_count": 2,
   "id": "7342af10-c21f-4532-aa6f-bc13eefd30bc",
   "metadata": {},
   "outputs": [
    {
     "name": "stdout",
     "output_type": "stream",
     "text": [
      "[0. 0. 0. 0. 0. 0. 0. 0. 0. 0. 0. 0. 0.]\n"
     ]
    }
   ],
   "source": [
    "frekvenser = zeros(13)\n",
    "print(frekvenser)"
   ]
  },
  {
   "cell_type": "code",
   "execution_count": 3,
   "id": "1e8d9438-f255-49aa-8623-62b8971e1b77",
   "metadata": {},
   "outputs": [
    {
     "name": "stdout",
     "output_type": "stream",
     "text": [
      "[0. 0. 0. 0. 0. 0. 0. 1. 0. 0. 0. 0. 0.]\n"
     ]
    }
   ],
   "source": [
    "frekvenser[7] += 1\n",
    "print(frekvenser)"
   ]
  },
  {
   "cell_type": "markdown",
   "id": "584dc1ed-02a8-4d1f-8f15-205525ab7172",
   "metadata": {},
   "source": [
    "arange bruker vi i dette tilfellet for å generere tallene fra 0 til 12 som brukes for å anngi antall øyne i søylediagrammet."
   ]
  },
  {
   "cell_type": "code",
   "execution_count": 4,
   "id": "c9cbd8e4-1941-406d-b91c-4e5cdf9ca73b",
   "metadata": {
    "tags": []
   },
   "outputs": [
    {
     "data": {
      "text/plain": [
       "array([ 0,  1,  2,  3,  4,  5,  6,  7,  8,  9, 10, 11, 12])"
      ]
     },
     "execution_count": 4,
     "metadata": {},
     "output_type": "execute_result"
    }
   ],
   "source": [
    "arange(13)"
   ]
  },
  {
   "cell_type": "markdown",
   "id": "49baaff9-81a2-43b1-8d5a-4186c22df008",
   "metadata": {},
   "source": [
    "### Lykkehjul på side 277"
   ]
  },
  {
   "cell_type": "code",
   "execution_count": 55,
   "id": "36bf39e5-accb-45dd-a25d-34d754021c2e",
   "metadata": {},
   "outputs": [
    {
     "data": {
      "image/png": "[encoded data removed]",
      "text/plain": [
       "<Figure size 432x288 with 1 Axes>"
      ]
     },
     "metadata": {
      "needs_background": "light"
     },
     "output_type": "display_data"
    }
   ],
   "source": [
    "lykkehjul = [\"Blå\", \"Gul\", \"Grønn\", \"Rød\", \"Oransje\"]\n",
    "sannsynlighetsfordeling = [3/8, 1/8, 1/8, 1/8, 2/8]\n",
    "\n",
    "simuleringer = choice(lykkehjul, 10000, p=sannsynlighetsfordeling)\n",
    "\n",
    "hist(simuleringer)\n",
    "show()"
   ]
  },
  {
   "cell_type": "markdown",
   "id": "36302e4a-79f1-4569-ba71-959f81d75043",
   "metadata": {},
   "source": [
    "---\n",
    "### Eksempel 9\n",
    "\n",
    "Gjennomfør en simulering av 10 000 kast med to terninger der vi teller summen av antall øyne for hvert kast. Lag et søylediagram som viser hvordan de relative frekvensene for hvert av utfallene fordeler seg."
   ]
  },
  {
   "cell_type": "code",
   "execution_count": 6,
   "id": "45cddaea-7705-4d0b-8f66-bc40274c9019",
   "metadata": {},
   "outputs": [
    {
     "data": {
      "image/png": "[encoded data removed]",
      "text/plain": [
       "<Figure size 432x288 with 1 Axes>"
      ]
     },
     "metadata": {
      "needs_background": "light"
     },
     "output_type": "display_data"
    }
   ],
   "source": [
    "from pylab import *\n",
    "\n",
    "N = 10000\n",
    "terning = [1, 2, 3, 4, 5, 6]\n",
    "frekvenser = zeros(13)\n",
    "\n",
    "for i in range(N):\n",
    "    terning1 = choice(terning)\n",
    "    terning2 = choice(terning)\n",
    "    \n",
    "    utfall = terning1 + terning2\n",
    "    \n",
    "    frekvenser[utfall] += 1\n",
    "    \n",
    "relativ_frekvens = frekvenser/N\n",
    "    \n",
    "antall_øyne = arange(13) \n",
    "\n",
    "bar(antall_øyne, relativ_frekvens)\n",
    "show()"
   ]
  },
  {
   "cell_type": "markdown",
   "id": "64e172dd-11b5-44c0-8514-17e23b02eca9",
   "metadata": {},
   "source": [
    "### Løsningsforslag"
   ]
  },
  {
   "cell_type": "markdown",
   "id": "ed5d9c0e-6e08-408f-8b02-bdcf30b3d2ce",
   "metadata": {},
   "source": [
    "#### Oppgave 5.14"
   ]
  },
  {
   "cell_type": "code",
   "execution_count": 67,
   "id": "f6d5114c-1d91-4389-82c0-a6c1dae6ea05",
   "metadata": {},
   "outputs": [
    {
     "name": "stdout",
     "output_type": "stream",
     "text": [
      "P(13) ≈ 0.06\n",
      "P(13) = 0.06\n"
     ]
    }
   ],
   "source": [
    "from pylab import *\n",
    "\n",
    "N = 10000\n",
    "antall_13 = 0\n",
    "\n",
    "for i in range(N):\n",
    "    snurr = randint(1, 17)\n",
    "    if snurr == 13:\n",
    "        antall_13 += 1\n",
    "        \n",
    "relativ_frekvens = antall_13/N\n",
    "\n",
    "print(f'P(13) \\u2248 {relativ_frekvens:.2f}')\n",
    "\n",
    "print(f'P(13) = {1/16:.2f}')"
   ]
  },
  {
   "cell_type": "markdown",
   "id": "4a53ad25-6475-409d-8c04-e37ab4f43d90",
   "metadata": {},
   "source": [
    "#### Oppgave 5.17"
   ]
  },
  {
   "cell_type": "code",
   "execution_count": 112,
   "id": "8c4b4f73-3dc9-4cfa-b5cf-c60007b7b68f",
   "metadata": {},
   "outputs": [
    {
     "data": {
      "image/png": "[encoded data removed]",
      "text/plain": [
       "<Figure size 432x288 with 1 Axes>"
      ]
     },
     "metadata": {
      "needs_background": "light"
     },
     "output_type": "display_data"
    }
   ],
   "source": [
    "from pylab import *\n",
    "\n",
    "terning = [1, 2, 3, 4]\n",
    "N = 400\n",
    "frekvenser = zeros(5)\n",
    "\n",
    "for i in range(N):\n",
    "    kast = choice(terning)\n",
    "    frekvenser[kast] += 1\n",
    "\n",
    "relativ_frekvens = frekvenser/N\n",
    "\n",
    "antall_øyne = arange(5)\n",
    "\n",
    "bar(antall_øyne, relativ_frekvens)\n",
    "show()"
   ]
  },
  {
   "cell_type": "markdown",
   "id": "d2eea804-2f3d-4ea9-b6cb-ab1dc37e13f9",
   "metadata": {},
   "source": [
    "#### Oppgave 5.97 b)"
   ]
  },
  {
   "cell_type": "code",
   "execution_count": 116,
   "id": "9b1150ef-de6d-4bb8-b173-7ba7fd0972aa",
   "metadata": {},
   "outputs": [
    {
     "name": "stdout",
     "output_type": "stream",
     "text": [
      "P(Summen av antall øyne > 15) ≈ 0.32\n"
     ]
    }
   ],
   "source": [
    "from pylab import *\n",
    "\n",
    "N = 100000\n",
    "terning = [1, 2, 3, 4, 5, 6, 7, 8]\n",
    "større_enn_15 = 0\n",
    "\n",
    "for i in range(N):\n",
    "    utfall = choice(terning) + choice(terning) + choice(terning)\n",
    "    \n",
    "    if utfall >15:\n",
    "        større_enn_15 += 1\n",
    "        \n",
    "relativ_frekvens = større_enn_15/N\n",
    "\n",
    "print(f'P(Summen av antall øyne > 15) \\u2248 {relativ_frekvens:.2f}')"
   ]
  },
  {
   "cell_type": "markdown",
   "id": "05778d6a-b57b-4ce5-820c-db5b6db7664c",
   "metadata": {},
   "source": [
    "## 5.5 Komplement, snitt og union"
   ]
  },
  {
   "cell_type": "markdown",
   "id": "375c6831-3bc9-4817-9a55-f1f1111ee8d1",
   "metadata": {},
   "source": [
    "### Utforsk \n",
    "\n",
    "Vi kaster en vanlig terning én gang definerer følgende hendelser:\n",
    "\n",
    "- A: Antall øyne er delelig med tre\n",
    "- B: Antall øyne er delelig med to\n",
    "- C: Antall øyne er delelig med to eller tre\n",
    "\n",
    "Programmet nedenfor simmulerer 100 000 terningkast for å bekrefte at \n",
    "\n",
    "- $P(A) = \\frac{2}{6}=\\frac{1}{3}$\n",
    "- $P(B) = \\frac{3}{6}=\\frac{1}{2}$\n",
    "- $P(C) = \\frac{4}{6}=\\frac{2}{3}$"
   ]
  },
  {
   "cell_type": "code",
   "execution_count": 118,
   "id": "810011e1-8eef-4cf1-a075-68a0df472f4b",
   "metadata": {},
   "outputs": [
    {
     "name": "stdout",
     "output_type": "stream",
     "text": [
      "P(A) ≈ 0.33\n",
      "P(B) ≈ 0.50\n",
      "P(C) ≈ 0.66\n"
     ]
    }
   ],
   "source": [
    "from pylab import *\n",
    "\n",
    "N = 100000\n",
    "\n",
    "terning = [1, 2, 3, 4, 5, 6]\n",
    "\n",
    "delelig_på = {\n",
    "  \"3\": 0,\n",
    "  \"2\": 0,\n",
    "  \"2 eller 3\": 0\n",
    "}\n",
    "\n",
    "for i in range(N):\n",
    "    kast = choice(terning)\n",
    "    \n",
    "    if kast % 3 == 0:\n",
    "        delelig_på[\"3\"] += 1\n",
    "    \n",
    "    if kast % 2 == 0:\n",
    "        delelig_på[\"2\"] += 1\n",
    "        \n",
    "    if kast % 2 == 0 or kast % 3 == 0:\n",
    "        delelig_på[\"2 eller 3\"] += 1\n",
    "        \n",
    "print(f'P(A) \\u2248 {delelig_på[\"3\"]/N:.2f}')\n",
    "print(f'P(B) \\u2248 {delelig_på[\"2\"]/N:.2f}')\n",
    "print(f'P(C) \\u2248 {delelig_på[\"2 eller 3\"]/N:.2f}')"
   ]
  },
  {
   "cell_type": "markdown",
   "id": "2c6ca82e-6919-444e-a23e-dcfaf337ff5e",
   "metadata": {},
   "source": [
    "---\n",
    "Diskuter hvorfor $P(A)+P(B) \\neq P(C)$."
   ]
  },
  {
   "cell_type": "markdown",
   "id": "373c897c-787c-4ca6-be4e-a67f57e5eef1",
   "metadata": {},
   "source": []
  }
 ],
 "metadata": {
  "kernelspec": {
   "display_name": "Python 3 (ipykernel)",
   "language": "python",
   "name": "python3"
  },
  "language_info": {
   "codemirror_mode": {
    "name": "ipython",
    "version": 3
   },
   "file_extension": ".py",
   "mimetype": "text/x-python",
   "name": "python",
   "nbconvert_exporter": "python",
   "pygments_lexer": "ipython3",
   "version": "3.8.12"
  }
 },
 "nbformat": 4,
 "nbformat_minor": 5
}

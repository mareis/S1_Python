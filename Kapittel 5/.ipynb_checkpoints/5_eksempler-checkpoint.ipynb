{
 "cells": [
  {
   "cell_type": "markdown",
   "id": "f3471ce9-1938-4d23-b28c-09338f7896c6",
   "metadata": {},
   "source": [
    "# 5 Kombinatorikk og sannsynlighetsregning"
   ]
  },
  {
   "cell_type": "markdown",
   "id": "3580d4d3-9e28-4ef1-843e-c57170d138c1",
   "metadata": {},
   "source": [
    "## 5.3 Sannsynlighet"
   ]
  },
  {
   "cell_type": "markdown",
   "id": "00d3aa54-18f8-4a1c-93ad-b601e4e792c1",
   "metadata": {},
   "source": [
    "### Utforsk \n",
    "\n",
    "Den relative frekvensen viser hvor mye én del utgjør av helheten. Nedenfor ser du et program skrevet i Python\n",
    "\n",
    "```python\n",
    "from pylab import *\n",
    "\n",
    "N = 10000\n",
    "antall_kron = 0\n",
    "kronestykke = [\"kron\", \"mynt\"]\n",
    "\n",
    "for i in range(N):\n",
    "    kast = choice(kronestykke)\n",
    "    if kast == \"kron\":\n",
    "        antall_kron += 1\n",
    "        \n",
    "relativ_frekvens = antall_kron/N\n",
    "\n",
    "print(relativ_frekvens)\n",
    "````\n",
    "\n",
    "- Forklar hva programmet gjør.\n",
    "- Kjør programmet og varier verdien av N mellom 3 og 1 000 000.\n",
    "- Kommenter hva som skjer med den relative frekvensen når vi øker verdien av N"
   ]
  },
  {
   "cell_type": "markdown",
   "id": "7bbae2ec-fedd-4098-8d20-e0d782368183",
   "metadata": {
    "tags": []
   },
   "source": [
    "---\n",
    "### Eksempel 7\n",
    "\n",
    "Skriv et program simulerer terningkast og den den relative frekvensen for seksere når man kaster\n",
    "\n",
    "- 10 ganger\n",
    "- 1000 ganger\n",
    "- 1 000 000 ganger\n",
    "\n"
   ]
  },
  {
   "cell_type": "code",
   "execution_count": 6,
   "id": "122064d7-fe6f-4bba-947e-b22c89daef41",
   "metadata": {},
   "outputs": [
    {
     "name": "stdout",
     "output_type": "stream",
     "text": [
      "Relativ frekvens for 6-er ved 1000000 kast: 0.166421\n"
     ]
    }
   ],
   "source": [
    "from pylab import *\n",
    "\n",
    "N = 1000000\n",
    "terning = [1, 2, 3, 4, 5, 6]\n",
    "antall_seksere = 0\n",
    "\n",
    "for i in range(N):\n",
    "    kast = choice(terning)\n",
    "    if kast == 6:\n",
    "        antall_seksere += 1\n",
    "        \n",
    "relativ_frekvens = antall_seksere/N\n",
    "\n",
    "print(f\"Relativ frekvens for 6-er ved {N} kast: {relativ_frekvens}\")"
   ]
  },
  {
   "cell_type": "markdown",
   "id": "12b4305a-6944-4726-87ea-c83249506d55",
   "metadata": {
    "tags": []
   },
   "source": [
    "Vi ser at når vi kaster veldig mange ganger, vil den relative frekvensen nærme stabilisere sef på $0.1666...\\approx \\frac{1}{6} $\n",
    "\n",
    "Prøv deg frem med ulike verdier av N."
   ]
  },
  {
   "cell_type": "markdown",
   "id": "36302e4a-79f1-4569-ba71-959f81d75043",
   "metadata": {},
   "source": [
    "---\n",
    "### Eksempel 9\n",
    "\n",
    "Gjennomfør en simulering av 10 000 kast med to terninger der vi teller summen av antall øyne for hvert kast. Lag et søylediagram som viser hvordan de relative frekvensene for hvert av utfallene fordeler seg."
   ]
  },
  {
   "cell_type": "code",
   "execution_count": 18,
   "id": "45cddaea-7705-4d0b-8f66-bc40274c9019",
   "metadata": {},
   "outputs": [
    {
     "data": {
      "image/png": "[encoded data removed]",
      "text/plain": [
       "<Figure size 432x288 with 1 Axes>"
      ]
     },
     "metadata": {
      "needs_background": "light"
     },
     "output_type": "display_data"
    }
   ],
   "source": [
    "from pylab import *\n",
    "\n",
    "N = 10000\n",
    "terning = [1, 2, 3, 4, 5, 6]\n",
    "frekvenser = zeros(13)\n",
    "\n",
    "for i in range(N):\n",
    "    kast1 = choice(terning)\n",
    "    kast2 = choice(terning)\n",
    "    \n",
    "    utfall = kast1 + kast2\n",
    "    \n",
    "    frekvenser[utfall] += 1\n",
    "    \n",
    "relativ_frekvens = frekvenser/N\n",
    "    \n",
    "antall_øyne = arange(13) \n",
    "\n",
    "bar(antall_øyne, relativ_frekvens)\n",
    "show()"
   ]
  },
  {
   "cell_type": "code",
   "execution_count": null,
   "id": "3679a2c2-5b92-4293-a418-46cafe8ff0a9",
   "metadata": {},
   "outputs": [],
   "source": []
  }
 ],
 "metadata": {
  "kernelspec": {
   "display_name": "Python 3 (ipykernel)",
   "language": "python",
   "name": "python3"
  },
  "language_info": {
   "codemirror_mode": {
    "name": "ipython",
    "version": 3
   },
   "file_extension": ".py",
   "mimetype": "text/x-python",
   "name": "python",
   "nbconvert_exporter": "python",
   "pygments_lexer": "ipython3",
   "version": "3.8.12"
  }
 },
 "nbformat": 4,
 "nbformat_minor": 5
}

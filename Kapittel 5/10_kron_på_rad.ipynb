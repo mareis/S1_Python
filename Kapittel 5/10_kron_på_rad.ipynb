{
 "cells": [
  {
   "cell_type": "markdown",
   "id": "fb4be553-5173-4629-ac84-7bfb144793a8",
   "metadata": {
    "tags": []
   },
   "source": [
    "# 10 kron på rad\n",
    "\n",
    "Programlederen i Siffer, Jo Røislien, bruker en dag på å kaste 10 kron på rad.\n",
    "Sannsynligheten for å få 10 kron på rad er $(\\frac{1}{2})^{10} = 0.0009765625$. \n",
    "\n",
    "Og for morro skyld så skal vi nå gjennta forsøket til Jo Røislien flere ganger og se hva som skjer? 🤯"
   ]
  },
  {
   "cell_type": "markdown",
   "id": "731e55d3-8452-43b3-b2a4-6094dff17cde",
   "metadata": {},
   "source": [
    "## **Del 1:** Et myntkast i Python 🪙\n",
    "\n",
    "```python\n",
    "from pylab import *\n",
    "\n",
    "kronestykke = [\"mynt\", \"kron\"]\n",
    "kast = choice(kronestykke)\n",
    "\n",
    "print(kast)\n",
    "```\n",
    "\n",
    "**a)** Les koden ovenfor, og gjett på resultatet.🔐"
   ]
  },
  {
   "cell_type": "markdown",
   "id": "3230d365-e249-45cb-843b-a7163bdbc399",
   "metadata": {},
   "source": [
    "**b)** Skriv av koden, og kjør programmet tre ganger. 👩‍💻"
   ]
  },
  {
   "cell_type": "code",
   "execution_count": 1,
   "id": "56b8aa53-e8da-49d7-be91-5ba1f3a799f9",
   "metadata": {},
   "outputs": [],
   "source": [
    "# Løs her"
   ]
  },
  {
   "cell_type": "markdown",
   "id": "97d4d752-c0b6-4247-9ffe-cb712df5e392",
   "metadata": {},
   "source": [
    "---\n",
    "## **Del 2:** Ikke bare et myntkast 🪙 🪙 🪙\n",
    "\n",
    "\n",
    "```python\n",
    "from pylab import *\n",
    "\n",
    "antall_kast = 3\n",
    "kronestykke = [\"mynt\", \"kron\"]\n",
    "resultat = []\n",
    "\n",
    "for i in range(antall_kast):\n",
    "    kast = choice(kronestykke)\n",
    "    resultat.append(kast)\n",
    "    \n",
    "print(resultat)\n",
    "```\n",
    "\n",
    "**c)** Les koden ovenfor, og gjett på resultatet. 🔐"
   ]
  },
  {
   "cell_type": "markdown",
   "id": "799f93fb-b84d-4715-98e6-da389902638e",
   "metadata": {},
   "source": [
    "**d)** Skriv av koden, og kjør programmet til du bare får kron. 👩‍💻"
   ]
  },
  {
   "cell_type": "code",
   "execution_count": 4,
   "id": "e1669223-e139-4473-aef0-718876898908",
   "metadata": {},
   "outputs": [],
   "source": [
    "# Løs her"
   ]
  },
  {
   "cell_type": "markdown",
   "id": "9786ba63-c32f-4241-8c33-3535b9f7428e",
   "metadata": {},
   "source": [
    "**e)** Hva om du øker antall kast til 5? Hvor mange ganger må du kjøre programmet til du bare får kron? 🛠"
   ]
  },
  {
   "cell_type": "markdown",
   "id": "151bbd18-54f7-45df-b62d-b8038922ddb0",
   "metadata": {},
   "source": [
    "---\n",
    "## **Del 3:** Kast til det bare blir kron 🪙 🪙 🪙 🪙\n",
    "\n",
    "```python \n",
    "from pylab import *\n",
    "\n",
    "antall_kast = 4\n",
    "kronestykke = [\"mynt\", \"kron\"]\n",
    "bare_kron = antall_kast*[\"kron\"]\n",
    "antall_forsøk = 0\n",
    "resultat = []\n",
    "\n",
    "while resultat != bare_kron:\n",
    "    antall_forsøk += 1\n",
    "    resultat = []\n",
    "    for j in range(antall_kast):\n",
    "        kast = choice(kronestykke)\n",
    "        resultat.append(kast)\n",
    "\n",
    "        \n",
    "print(resultat)\n",
    "print(antall_forsøk)\n",
    "```"
   ]
  },
  {
   "cell_type": "markdown",
   "id": "dd9cd6c9-656b-461c-82b2-02fe05906940",
   "metadata": {},
   "source": [
    "**f)** Kjør koden under og beskriv `bare_kron`. Du kan prøve å endre `antall_kast`."
   ]
  },
  {
   "cell_type": "code",
   "execution_count": 10,
   "id": "91f0015f-6069-4a05-9ec2-b3b4fd2e22ec",
   "metadata": {},
   "outputs": [
    {
     "name": "stdout",
     "output_type": "stream",
     "text": [
      "['kron', 'kron', 'kron', 'kron']\n"
     ]
    }
   ],
   "source": [
    "# Kjør denne koden\n",
    "antall_kast = 4\n",
    "bare_kron = antall_kast*[\"kron\"]\n",
    "print(bare_kron)"
   ]
  },
  {
   "cell_type": "markdown",
   "id": "73ddf08f-bf11-48ac-ab9a-fc8a8662aec9",
   "metadata": {},
   "source": [
    "_Forklar her_"
   ]
  },
  {
   "cell_type": "markdown",
   "id": "9d05570c-9cd9-4260-a864-2774859d0490",
   "metadata": {},
   "source": [
    "**g)** Oversett denne kodelinjen til en norsk setning\n",
    "\n",
    "```python\n",
    "while resultat != bare_kron:\n",
    "```"
   ]
  },
  {
   "cell_type": "markdown",
   "id": "8271f806-66cc-417e-b82d-648a68367046",
   "metadata": {},
   "source": [
    "_Oversett her_"
   ]
  },
  {
   "cell_type": "markdown",
   "id": "09bcb4bb-a4ee-4ff0-ab01-182f0e907610",
   "metadata": {},
   "source": [
    "**h)** Variabelen `antall_forsøk` er også lagt til. Hva er hensikten med den og hva skjer med den i while-løkken? "
   ]
  },
  {
   "cell_type": "markdown",
   "id": "6de354f7-6a4e-454d-9f78-9bb235566820",
   "metadata": {},
   "source": [
    "_Forklar her_"
   ]
  },
  {
   "cell_type": "markdown",
   "id": "a743744f-97cf-4bf0-ab70-8d97a0817090",
   "metadata": {},
   "source": [
    "**i)** Hva tror du blir resultatet når vi kjører hele koden? 🔐"
   ]
  },
  {
   "cell_type": "markdown",
   "id": "4adcbd0a-8db3-4c18-86fa-3939841b6356",
   "metadata": {},
   "source": [
    "**j)** Skriv av hele koden, og kjør programmet. Stemte det med med det du tenkte? 👩‍💻"
   ]
  },
  {
   "cell_type": "code",
   "execution_count": 17,
   "id": "5d8cc7db-c312-47da-ac1f-0da6ea69cdb5",
   "metadata": {},
   "outputs": [],
   "source": [
    "# løs her"
   ]
  },
  {
   "cell_type": "markdown",
   "id": "617c8e06-7b2c-4c8a-84ec-5646e7687254",
   "metadata": {},
   "source": [
    "**k)** Endre på `antall_kast` og kjør koden noen ganger.🛠"
   ]
  },
  {
   "cell_type": "code",
   "execution_count": 5,
   "id": "6b2fbcae-7e8f-4b24-b2c2-db8cbe5d5b49",
   "metadata": {},
   "outputs": [],
   "source": [
    "# løs her"
   ]
  },
  {
   "cell_type": "markdown",
   "id": "2305b82a-9897-4ed7-aa2b-ed005ae6206b",
   "metadata": {},
   "source": [
    "## **Del 4:** Bare kron flere ganger 🪙 🪙 🪙 🪙 🪙 🪙 🪙 🪙\n",
    "\n",
    "Nå er det på tide å gjenta forsøket til vi bare får kron mange ganger og se hva som skjer med `antall_forsøk` for hver gang.\n",
    "\n",
    "```python\n",
    "from pylab import *\n",
    "\n",
    "antall_kast = 4\n",
    "antall_simuleringer = 100\n",
    "bare_kron = antall_kast*[\"kron\"]\n",
    "kronestykke = [\"mynt\", \"kron\"]\n",
    "simuleringer = []\n",
    "\n",
    "for i in range(antall_simuleringer):\n",
    "    antall_forsøk = 0\n",
    "    resultat = []\n",
    "    \n",
    "    while resultat != bare_kron:\n",
    "        antall_forsøk += 1\n",
    "        resultat = []\n",
    "        for j in range(antall_kast):\n",
    "            kast = choice(kronestykke)\n",
    "            resultat.append(kast)\n",
    "\n",
    "    simuleringer.append(antall_forsøk)\n",
    "\n",
    "    \n",
    "print(simuleringer)\n",
    "```"
   ]
  },
  {
   "cell_type": "markdown",
   "id": "a8fb7170-618e-42a3-b9fc-23cec62758f3",
   "metadata": {},
   "source": [
    "**l)** Kan du prøve å forklare `antall_simuleringer` og hva den gjør i løkken under? 🔐\n",
    "```python\n",
    "for i in range(antall_simuleringer):\n",
    "````\n"
   ]
  },
  {
   "cell_type": "markdown",
   "id": "107fdd69-048d-4af1-acde-4a5bfdb847d6",
   "metadata": {},
   "source": [
    "_Forklar her_"
   ]
  },
  {
   "cell_type": "markdown",
   "id": "a1336011-81fd-401b-a75b-367c256aabaa",
   "metadata": {},
   "source": [
    "Listen `simuleringer = []` er også lagt til programmet. Den tar vare på antall forsøk for å oppnå bare kron for hver simulering.\n",
    "\n",
    "```python\n",
    "simuleringer.append(antall_forsøk)\n",
    "```\n"
   ]
  },
  {
   "cell_type": "markdown",
   "id": "b754c87f-2100-40c2-b53c-f36223c5a342",
   "metadata": {},
   "source": [
    "**m)** Skriv av hele koden, og kjør programmet noen ganger. 👩‍💻"
   ]
  },
  {
   "cell_type": "code",
   "execution_count": 6,
   "id": "374e058e-0330-494c-a843-4392ad30d838",
   "metadata": {},
   "outputs": [],
   "source": [
    "# Løs her"
   ]
  },
  {
   "cell_type": "markdown",
   "id": "e0c30335-c7cb-4140-8564-48ca2f4107ca",
   "metadata": {},
   "source": [
    "**n)** Hva skjer når du endrer på `antall_simuleringer` i koden? 🛠"
   ]
  },
  {
   "cell_type": "markdown",
   "id": "589215ba-ff34-4339-a98f-204a5a918bd5",
   "metadata": {},
   "source": [
    "## **Del 5:** Hvor mange gjennomsnitlige forsøk før bare kron? Og hva er sannsynligheten for bare kron?\n",
    "\n",
    "Utskriftene under oppsumerer resultatene av simuleringene som kjøres. \n",
    "\n",
    "```python\n",
    "print(f'\\nAntall kast: {antall_kast}\\n')\n",
    "print('Færest forsøk:', min(simuleringer))\n",
    "print('Flest forsøk', max(simuleringer))\n",
    "print('Gjennomsnitlig antall forsøk:', mean(simuleringer))\n",
    "print(f'Beregnet sannsynlighet: {1/mean(simuleringer):.4f}')\n",
    "print(f'Reell sannsynlighet: {(1/2)**antall_kast:.4f}')\n",
    "print('Antall ganger det ble bare kron på første forsøk', simuleringer.count(1))\n",
    "```"
   ]
  },
  {
   "cell_type": "markdown",
   "id": "5d2a2410-12c5-4b39-9668-415a3f4e07eb",
   "metadata": {},
   "source": [
    "**o)** Skriv av koden over nederst under kodelinjen `print(simuleringer)`. 👩‍💻"
   ]
  },
  {
   "cell_type": "code",
   "execution_count": 20,
   "id": "5cb3bb75-5685-4cc7-8323-c5f8967718bf",
   "metadata": {},
   "outputs": [
    {
     "name": "stdout",
     "output_type": "stream",
     "text": [
      "[2332, 1123, 496, 936, 375, 144, 5456, 1079, 676, 683, 77, 215, 1476, 1026, 1213, 281, 716, 214, 99, 58, 235, 443, 1609, 2103, 766, 1229, 1391, 1571, 57, 589, 83, 533, 1846, 1139, 174, 923, 1051, 3520, 23, 443, 107, 139, 274, 868, 683, 1149, 513, 2419, 3319, 575, 474, 129, 10, 448, 1709, 473, 709, 782, 243, 216, 381, 792, 298, 2057, 2049, 71, 1316, 2482, 1027, 107, 489, 1740, 49, 1692, 1716, 3088, 1108, 1840, 956, 3278, 211, 1029, 585, 651, 582, 147, 3169, 130, 68, 718, 2202, 1340, 522, 610, 149, 202, 1289, 165, 286, 777]\n",
      "\n",
      "Antall kast: 10\n",
      "\n",
      "Færest forsøk: 10\n",
      "Flest forsøk 5456\n",
      "Gjennomsnitlig antall forsøk: 950.1\n",
      "Beregnet sannsynlighet: 0.0011\n",
      "Reell sannsynlighet: 0.0010\n",
      "Antall ganger det ble bare kron på første forsøk 0\n"
     ]
    }
   ],
   "source": [
    "# løs her\n",
    "from pylab import *\n",
    "\n",
    "antall_kast = 10\n",
    "antall_simuleringer = 100\n",
    "bare_kron = antall_kast*[\"kron\"]\n",
    "kronestykke = [\"mynt\", \"kron\"]\n",
    "simuleringer = []\n",
    "\n",
    "for i in range(antall_simuleringer):\n",
    "    antall_forsøk = 0\n",
    "    resultat = []\n",
    "    \n",
    "    while resultat != bare_kron:\n",
    "        antall_forsøk += 1\n",
    "        resultat = []\n",
    "        for j in range(antall_kast):\n",
    "            kast = choice(kronestykke)\n",
    "            resultat.append(kast)\n",
    "\n",
    "    simuleringer.append(antall_forsøk)\n",
    "\n",
    "    \n",
    "print(simuleringer)\n",
    "print(f'\\nAntall kast: {antall_kast}\\n')\n",
    "print('Færest forsøk:', min(simuleringer))\n",
    "print('Flest forsøk', max(simuleringer))\n",
    "print('Gjennomsnitlig antall forsøk:', mean(simuleringer))\n",
    "print(f'Beregnet sannsynlighet: {1/mean(simuleringer):.4f}')\n",
    "print(f'Reell sannsynlighet: {(1/2)**antall_kast:.4f}')\n",
    "print('Antall ganger det ble bare kron på første forsøk', simuleringer.count(1))"
   ]
  },
  {
   "cell_type": "markdown",
   "id": "39e5fa57-047e-4f44-915b-8fe052a7ebb5",
   "metadata": {},
   "source": [
    "**p)** Gjør endringer på `antall_kast` og `antall_simuleringer`. 🛠"
   ]
  },
  {
   "cell_type": "markdown",
   "id": "79df7808-aa2a-4767-89f2-1821b50c4020",
   "metadata": {},
   "source": [
    "**q)** Hva skjer hvis du setter:\n",
    "\n",
    "```python\n",
    "antall_kast = 10\n",
    "antall_simuleringer = 100\n",
    "```\n",
    "\n",
    "Hvor mange forsøk tror du Jo Røislien brukte?"
   ]
  },
  {
   "cell_type": "markdown",
   "id": "e399bde9-dd22-422e-8172-b06a6a404124",
   "metadata": {},
   "source": [
    "## **Del 6:** Fordeling\n",
    "\n",
    "**r)** Prøv koden under for et histogram\n",
    "\n",
    "```python\n",
    "hist(simuleringer)\n",
    "show()\n",
    "```\n",
    "\n",
    "Du vil se at sannsynlighetsfordelingen er ganske skjev."
   ]
  },
  {
   "cell_type": "code",
   "execution_count": 21,
   "id": "cc8ff40b-6604-4472-8900-3573eef134dd",
   "metadata": {},
   "outputs": [
    {
     "data": {
      "image/png": "[encoded data removed]",
      "text/plain": [
       "<Figure size 432x288 with 1 Axes>"
      ]
     },
     "metadata": {
      "needs_background": "light"
     },
     "output_type": "display_data"
    }
   ],
   "source": [
    "# Løs her\n",
    "hist(simuleringer)\n",
    "show()"
   ]
  },
  {
   "cell_type": "markdown",
   "id": "75d1909e-8509-4541-ba95-cfb5eb780a3c",
   "metadata": {},
   "source": [
    "Det får vi også bekreftet når vi ser på medianen\n",
    "\n",
    "**s)** kjør følgende kode:\n",
    "\n",
    "```python\n",
    "median(simuleringer)\n",
    "```"
   ]
  },
  {
   "cell_type": "code",
   "execution_count": 9,
   "id": "fcbe4028-2745-4d9c-a8ef-78ef3dfb80e6",
   "metadata": {
    "tags": []
   },
   "outputs": [],
   "source": [
    "# Løs her"
   ]
  },
  {
   "cell_type": "markdown",
   "id": "3cd9d8ad-f870-4c29-89e5-f15dd5d01ce8",
   "metadata": {},
   "source": [
    "**t)** Har du endret mening om hvor mange kast du tror Jo Røislien brukte nå?"
   ]
  },
  {
   "cell_type": "code",
   "execution_count": 15,
   "id": "8a9b721f-7c22-41d4-b39b-cedd727e3320",
   "metadata": {},
   "outputs": [
    {
     "name": "stdout",
     "output_type": "stream",
     "text": [
      "[6, 12, 7, 26, 20, 18, 34, 3, 10, 12, 9, 39, 17, 30, 19, 14, 1, 23, 14, 5, 4, 4, 49, 43, 6, 8, 3, 2, 40, 21, 16, 13, 31, 4, 9, 19, 1, 13, 46, 5, 56, 3, 2, 17, 21, 40, 1, 42, 1, 8, 5, 5, 19, 5, 10, 7, 26, 7, 45, 3, 12, 11, 13, 17, 29, 42, 10, 9, 7, 34, 7, 21, 14, 25, 2, 3, 17, 2, 5, 20, 17, 11, 1, 26, 11, 55, 8, 10, 4, 22, 17, 15, 4, 24, 14, 5, 5, 8, 42, 3]\n",
      "\n",
      "Antall kast: 4\n",
      "\n",
      "Færest forsøk: 1\n",
      "Flest forsøk 56\n",
      "Gjennomsnitlig antall forsøk: 15.81\n",
      "Beregnet sannsynlighet: 0.0633\n",
      "Reell sannsynlighet: 0.0625\n",
      "Antall ganger det ble bare kron på første forsøk 5\n"
     ]
    }
   ],
   "source": [
    "from pylab import *\n",
    "\n",
    "antall_kast = 4\n",
    "antall_simuleringer = 100\n",
    "bare_kron = antall_kast*[\"kron\"]\n",
    "kronestykke = [\"mynt\", \"kron\"]\n",
    "simuleringer = []\n",
    "\n",
    "for i in range(antall_simuleringer):\n",
    "    antall_forsøk = 0\n",
    "    resultat = []\n",
    "    \n",
    "    while resultat != bare_kron:\n",
    "        antall_forsøk += 1\n",
    "        resultat = []\n",
    "        for j in range(antall_kast):\n",
    "            kast = choice(kronestykke)\n",
    "            resultat.append(kast)\n",
    "\n",
    "    simuleringer.append(antall_forsøk)\n",
    "\n",
    "    \n",
    "print(simuleringer)\n",
    "print(f'\\nAntall kast: {antall_kast}\\n')\n",
    "print('Færest forsøk:', min(simuleringer))\n",
    "print('Flest forsøk', max(simuleringer))\n",
    "print('Gjennomsnitlig antall forsøk:', mean(simuleringer))\n",
    "print(f'Beregnet sannsynlighet: {1/mean(simuleringer):.4f}')\n",
    "print(f'Reell sannsynlighet: {(1/2)**antall_kast:.4f}')\n",
    "print('Antall ganger det ble bare kron på første forsøk', simuleringer.count(1))"
   ]
  },
  {
   "cell_type": "code",
   "execution_count": 22,
   "id": "71d067f9-5083-479d-ad4d-690b0a70930a",
   "metadata": {},
   "outputs": [
    {
     "data": {
      "image/png": "[encoded data removed]",
      "text/plain": [
       "<Figure size 432x288 with 1 Axes>"
      ]
     },
     "metadata": {
      "needs_background": "light"
     },
     "output_type": "display_data"
    },
    {
     "data": {
      "text/plain": [
       "679.5"
      ]
     },
     "execution_count": 22,
     "metadata": {},
     "output_type": "execute_result"
    }
   ],
   "source": [
    "hist(simuleringer)\n",
    "show()\n",
    "median(simuleringer)"
   ]
  },
  {
   "cell_type": "code",
   "execution_count": 24,
   "id": "fe068813-87ba-4b04-a1ca-48af73779e95",
   "metadata": {},
   "outputs": [
    {
     "data": {
      "text/plain": [
       "679.5"
      ]
     },
     "execution_count": 24,
     "metadata": {},
     "output_type": "execute_result"
    }
   ],
   "source": [
    "median(simuleringer)"
   ]
  },
  {
   "cell_type": "code",
   "execution_count": null,
   "id": "ba5f1e7f-9fbb-40d9-83ed-06d66e9495bc",
   "metadata": {},
   "outputs": [],
   "source": []
  }
 ],
 "metadata": {
  "kernelspec": {
   "display_name": "Python 3 (ipykernel)",
   "language": "python",
   "name": "python3"
  },
  "language_info": {
   "codemirror_mode": {
    "name": "ipython",
    "version": 3
   },
   "file_extension": ".py",
   "mimetype": "text/x-python",
   "name": "python",
   "nbconvert_exporter": "python",
   "pygments_lexer": "ipython3",
   "version": "3.8.12"
  }
 },
 "nbformat": 4,
 "nbformat_minor": 5
}

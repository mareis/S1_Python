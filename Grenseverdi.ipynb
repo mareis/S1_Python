{
 "cells": [
  {
   "cell_type": "markdown",
   "id": "0775e0da-d7f3-4ba7-887d-4d59d929e17c",
   "metadata": {},
   "source": [
    "# Grenseverdi"
   ]
  },
  {
   "cell_type": "code",
   "execution_count": 9,
   "id": "526bb775-d07e-4788-9d42-307dd5784e1e",
   "metadata": {},
   "outputs": [],
   "source": [
    "def f(x):\n",
    "    return 3/(x - 4)"
   ]
  },
  {
   "cell_type": "code",
   "execution_count": 21,
   "id": "d76e404e-ddc5-44de-8b45-eb588c952f4c",
   "metadata": {},
   "outputs": [
    {
     "data": {
      "text/plain": [
       "1.5"
      ]
     },
     "execution_count": 21,
     "metadata": {},
     "output_type": "execute_result"
    }
   ],
   "source": [
    "f(6)\n"
   ]
  },
  {
   "cell_type": "code",
   "execution_count": 23,
   "id": "1f7e6938-7408-4c1c-8b8d-ec117706d1c9",
   "metadata": {},
   "outputs": [
    {
     "name": "stdout",
     "output_type": "stream",
     "text": [
      "f(4.00001) = 300000.0000113573\n",
      "f(4.0000089999999995) = 333333.33335253166\n",
      "f(4.000007999999999) = 375000.00003085\n",
      "f(4.000006999999999) = 428571.4286202803\n",
      "f(4.000005999999999) = 500000.00007814076\n",
      "f(4.000004999999999) = 600000.0001292961\n",
      "f(4.000003999999999) = 750000.0002282334\n",
      "f(4.000002999999999) = 1000000.0004523409\n",
      "f(4.0000019999999985) = 1500000.0011226006\n",
      "f(4.000000999999998) = 3000000.0049097366\n"
     ]
    }
   ],
   "source": [
    "a = 4.00001\n",
    "while a > 4:\n",
    "    print(f\"f({a}) = {f(a)}\")\n",
    "    a = a - 0.000001"
   ]
  },
  {
   "cell_type": "code",
   "execution_count": 27,
   "id": "aa30f8b9-e50c-43c5-8353-a1809ef04bb3",
   "metadata": {},
   "outputs": [],
   "source": [
    "def g(x):\n",
    "    return (x**2 - 1)/(x - 1) "
   ]
  },
  {
   "cell_type": "code",
   "execution_count": 37,
   "id": "f4c78952-e3cd-433a-af30-43f2b9f27008",
   "metadata": {},
   "outputs": [
    {
     "name": "stdout",
     "output_type": "stream",
     "text": [
      "1.000001 2.0000010000889006\n",
      "1.0000008999999 2.0000009000208987\n",
      "1.00000079999981 2.0000007999158793\n",
      "1.00000069999973 2.000000700075189\n",
      "1.00000059999966 2.0000005998908477\n",
      "1.0000004999996 2.0000005000448504\n",
      "1.00000039999955 2.0000004002358507\n",
      "1.00000029999951 2.0000002997607065\n",
      "1.0000001999994799 2.000000199840664\n",
      "1.0000000999994598 2.000000099920612\n"
     ]
    }
   ],
   "source": [
    "a = 1.000001\n",
    "while a > 1:\n",
    "    print(a, g(a))\n",
    "    a = a*0.9999999"
   ]
  },
  {
   "cell_type": "code",
   "execution_count": null,
   "id": "e882e9dc-faa6-464f-9670-8245fd247b50",
   "metadata": {},
   "outputs": [],
   "source": []
  }
 ],
 "metadata": {
  "kernelspec": {
   "display_name": "Python 3 (ipykernel)",
   "language": "python",
   "name": "python3"
  },
  "language_info": {
   "codemirror_mode": {
    "name": "ipython",
    "version": 3
   },
   "file_extension": ".py",
   "mimetype": "text/x-python",
   "name": "python",
   "nbconvert_exporter": "python",
   "pygments_lexer": "ipython3",
   "version": "3.8.12"
  }
 },
 "nbformat": 4,
 "nbformat_minor": 5
}

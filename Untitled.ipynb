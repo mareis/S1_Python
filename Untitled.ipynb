{
 "cells": [
  {
   "cell_type": "code",
   "execution_count": 1,
   "id": "026ca30e-78e3-4e1f-974c-5953d474b070",
   "metadata": {},
   "outputs": [
    {
     "name": "stdout",
     "output_type": "stream",
     "text": [
      "*\n"
     ]
    }
   ],
   "source": [
    "print(\"*\")"
   ]
  },
  {
   "cell_type": "code",
   "execution_count": 6,
   "id": "4d199339-2cf0-42a6-8b34-189b830ab29f",
   "metadata": {},
   "outputs": [
    {
     "name": "stdout",
     "output_type": "stream",
     "text": [
      "u · v = 11\n"
     ]
    }
   ],
   "source": [
    "\n",
    "print(f\"u \\u00B7 v = 11\")"
   ]
  },
  {
   "cell_type": "code",
   "execution_count": 12,
   "id": "ed50ddc1-542b-42ce-9e1e-2c9f0e14dd60",
   "metadata": {},
   "outputs": [
    {
     "data": {
      "text/plain": [
       "120"
      ]
     },
     "execution_count": 12,
     "metadata": {},
     "output_type": "execute_result"
    }
   ],
   "source": [
    "from pylab import *\n",
    "math.comb(16,2)"
   ]
  },
  {
   "cell_type": "code",
   "execution_count": 15,
   "id": "ddff7063-8cd4-47e4-8f3f-a2c4b43f0e6e",
   "metadata": {},
   "outputs": [
    {
     "data": {
      "text/plain": [
       "5"
      ]
     },
     "execution_count": 15,
     "metadata": {},
     "output_type": "execute_result"
    }
   ],
   "source": [
    "randint(1,7)"
   ]
  },
  {
   "cell_type": "code",
   "execution_count": 17,
   "id": "16a4cea3-8e23-48a5-a8fe-c955afeea8c4",
   "metadata": {},
   "outputs": [
    {
     "data": {
      "text/plain": [
       "4"
      ]
     },
     "execution_count": 17,
     "metadata": {},
     "output_type": "execute_result"
    }
   ],
   "source": [
    "terning = [1,2,3,4,5,6]\n",
    "resultat = choice(terning)"
   ]
  },
  {
   "cell_type": "code",
   "execution_count": 21,
   "id": "d352f431-fb7b-4dd7-a1c5-efe527d3667a",
   "metadata": {},
   "outputs": [
    {
     "name": "stdout",
     "output_type": "stream",
     "text": [
      "10\n",
      "0.2777777777777778\n"
     ]
    }
   ],
   "source": [
    "terning = [1,2,3,4,5,6]\n",
    "gunstige = 0\n",
    "mulige = 0\n",
    "for t1 in terning:\n",
    "    for t2 in terning:\n",
    "        if t1+t2 >= 9:\n",
    "            gunstige += 1\n",
    "            \n",
    "        mulige += 1\n",
    "              \n",
    "print(gunstige)\n",
    "print(gunstige/mulige)\n",
    "            "
   ]
  },
  {
   "cell_type": "code",
   "execution_count": null,
   "id": "c660784f-b4af-4089-a936-9f373b6a0f59",
   "metadata": {},
   "outputs": [],
   "source": []
  }
 ],
 "metadata": {
  "kernelspec": {
   "display_name": "Python 3 (ipykernel)",
   "language": "python",
   "name": "python3"
  },
  "language_info": {
   "codemirror_mode": {
    "name": "ipython",
    "version": 3
   },
   "file_extension": ".py",
   "mimetype": "text/x-python",
   "name": "python",
   "nbconvert_exporter": "python",
   "pygments_lexer": "ipython3",
   "version": "3.8.12"
  }
 },
 "nbformat": 4,
 "nbformat_minor": 5
}

{
 "cells": [
  {
   "cell_type": "code",
   "execution_count": 50,
   "id": "0eb98d33-06ff-4ebd-b95d-1da71466b772",
   "metadata": {},
   "outputs": [
    {
     "name": "stdout",
     "output_type": "stream",
     "text": [
      "[948.65106492 948.65106492]\n"
     ]
    },
    {
     "name": "stderr",
     "output_type": "stream",
     "text": [
      "/var/folders/n0/0c_0_wmx63zgb42gk3yhdg_m0000gn/T/ipykernel_21201/3488342526.py:6: RuntimeWarning: invalid value encountered in double_scalars\n",
      "  return [n**2*(x/n)**(log10(x)-3) - x**2, n**2*(x/n)**(log10(x)-3) - x**2]\n"
     ]
    }
   ],
   "source": [
    "from pylab import *\n",
    "import scipy.optimize\n",
    "\n",
    "def f(par):\n",
    "    x , n = par\n",
    "    return [n**2*(x/n)**(log10(x)-3) - x**2, n**2*(x/n)**(log10(x)-3) - x**2]\n",
    "\n",
    "test = scipy.optimize.fsolve(f, [10009, 1])\n",
    "print(test)"
   ]
  },
  {
   "cell_type": "code",
   "execution_count": 41,
   "id": "02257cee-9b53-412c-94ca-4a28a2884b4d",
   "metadata": {},
   "outputs": [
    {
     "name": "stdout",
     "output_type": "stream",
     "text": [
      "[6.49943036 1.09102209]\n"
     ]
    }
   ],
   "source": [
    "from math import cos\n",
    "import scipy.optimize\n",
    "def fun(x):\n",
    "        a, b = x\n",
    "        y = [b*a - b - 6, a*cos(b) - 3]\n",
    "        return y\n",
    "x0 = scipy.optimize.fsolve(fun,[2, 2])\n",
    "print(x0)"
   ]
  },
  {
   "cell_type": "code",
   "execution_count": 53,
   "id": "6b5c6b5b-1ba0-411a-afca-d058e61a56d7",
   "metadata": {},
   "outputs": [
    {
     "data": {
      "text/plain": [
       "1800081.0"
      ]
     },
     "execution_count": 53,
     "metadata": {},
     "output_type": "execute_result"
    }
   ],
   "source": [
    "8**2*(100009/8)**(log10(100000)-3) - 100000**2"
   ]
  },
  {
   "cell_type": "code",
   "execution_count": null,
   "id": "5add0180-3df9-4969-affc-f021698bbd04",
   "metadata": {},
   "outputs": [],
   "source": []
  }
 ],
 "metadata": {
  "kernelspec": {
   "display_name": "Python 3 (ipykernel)",
   "language": "python",
   "name": "python3"
  },
  "language_info": {
   "codemirror_mode": {
    "name": "ipython",
    "version": 3
   },
   "file_extension": ".py",
   "mimetype": "text/x-python",
   "name": "python",
   "nbconvert_exporter": "python",
   "pygments_lexer": "ipython3",
   "version": "3.8.13"
  }
 },
 "nbformat": 4,
 "nbformat_minor": 5
}

{
 "cells": [
  {
   "cell_type": "code",
   "execution_count": 28,
   "id": "1fa22bca-5425-46c5-99b7-23edc829a698",
   "metadata": {},
   "outputs": [
    {
     "data": {
      "text/latex": [
       "$\\displaystyle \\left\\{x\\; \\middle|\\; x \\in \\mathbb{R} \\wedge \\left(\\frac{x}{n}\\right)^{\\frac{\\log{\\left(x \\right)}}{\\log{\\left(10 \\right)}} - 3} - \\frac{x^{2}}{n^{2}} = 0 \\right\\}$"
      ],
      "text/plain": [
       "ConditionSet(x, Eq((x/n)**(log(x)/log(10) - 3) - x**2/n**2, 0), Reals)"
      ]
     },
     "execution_count": 28,
     "metadata": {},
     "output_type": "execute_result"
    }
   ],
   "source": [
    "from sympy import *\n",
    "\n",
    "x, n = symbols('x n')\n",
    "vs = (x/n)**(log(x, 10)-3)\n",
    "hs = x**2/n**2\n",
    "\n",
    "exp = vs-hs\n",
    "\n",
    "solveset(exp, x, domain=S.Reals)"
   ]
  },
  {
   "cell_type": "code",
   "execution_count": null,
   "id": "7172583e-01d8-4d21-8282-b4d27a926b83",
   "metadata": {},
   "outputs": [],
   "source": []
  }
 ],
 "metadata": {
  "kernelspec": {
   "display_name": "Python 3 (ipykernel)",
   "language": "python",
   "name": "python3"
  },
  "language_info": {
   "codemirror_mode": {
    "name": "ipython",
    "version": 3
   },
   "file_extension": ".py",
   "mimetype": "text/x-python",
   "name": "python",
   "nbconvert_exporter": "python",
   "pygments_lexer": "ipython3",
   "version": "3.8.12"
  }
 },
 "nbformat": 4,
 "nbformat_minor": 5
}

{
 "cells": [
  {
   "cell_type": "code",
   "execution_count": 1,
   "id": "1fa22bca-5425-46c5-99b7-23edc829a698",
   "metadata": {},
   "outputs": [
    {
     "ename": "ModuleNotFoundError",
     "evalue": "No module named 'sympy'",
     "output_type": "error",
     "traceback": [
      "\u001b[0;31m---------------------------------------------------------------------------\u001b[0m",
      "\u001b[0;31mModuleNotFoundError\u001b[0m                       Traceback (most recent call last)",
      "Input \u001b[0;32mIn [1]\u001b[0m, in \u001b[0;36m<cell line: 1>\u001b[0;34m()\u001b[0m\n\u001b[0;32m----> 1\u001b[0m \u001b[38;5;28;01mfrom\u001b[39;00m \u001b[38;5;21;01msympy\u001b[39;00m \u001b[38;5;28;01mimport\u001b[39;00m \u001b[38;5;241m*\u001b[39m\n\u001b[1;32m      3\u001b[0m x, n \u001b[38;5;241m=\u001b[39m symbols(\u001b[38;5;124m'\u001b[39m\u001b[38;5;124mx n\u001b[39m\u001b[38;5;124m'\u001b[39m)\n\u001b[1;32m      5\u001b[0m vs \u001b[38;5;241m=\u001b[39m n\u001b[38;5;241m*\u001b[39m\u001b[38;5;241m*\u001b[39m\u001b[38;5;241m2\u001b[39m\u001b[38;5;241m*\u001b[39m(x\u001b[38;5;241m/\u001b[39mn)\u001b[38;5;241m*\u001b[39m\u001b[38;5;241m*\u001b[39m(log(x, \u001b[38;5;241m10\u001b[39m)\u001b[38;5;241m-\u001b[39m\u001b[38;5;241m3\u001b[39m)\n",
      "\u001b[0;31mModuleNotFoundError\u001b[0m: No module named 'sympy'"
     ]
    }
   ],
   "source": [
    "from sympy import *\n",
    "\n",
    "x, n = symbols('x n')\n",
    "\n",
    "vs = n**2*(x/n)**(log(x, 10)-3)\n",
    "hs = x**2\n",
    "\n",
    "exp = vs-hs\n",
    "\n",
    "solveset(exp, x, domain=S.Reals)"
   ]
  },
  {
   "cell_type": "code",
   "execution_count": null,
   "id": "7172583e-01d8-4d21-8282-b4d27a926b83",
   "metadata": {},
   "outputs": [],
   "source": [
    "solve(log(x+1) + log(4-x) - log(100), x)"
   ]
  },
  {
   "cell_type": "code",
   "execution_count": null,
   "id": "f6db3115-64b5-4941-9a9e-a44393dd3805",
   "metadata": {},
   "outputs": [],
   "source": [
    "solve(exp, x)"
   ]
  },
  {
   "cell_type": "code",
   "execution_count": 2,
   "id": "d2e5ce25-1bd9-4c64-b7cf-f4cd25f99912",
   "metadata": {},
   "outputs": [
    {
     "ename": "NameError",
     "evalue": "name 'solve' is not defined",
     "output_type": "error",
     "traceback": [
      "\u001b[0;31m---------------------------------------------------------------------------\u001b[0m",
      "\u001b[0;31mNameError\u001b[0m                                 Traceback (most recent call last)",
      "Input \u001b[0;32mIn [2]\u001b[0m, in \u001b[0;36m<cell line: 1>\u001b[0;34m()\u001b[0m\n\u001b[0;32m----> 1\u001b[0m \u001b[43msolve\u001b[49m(exp, x)\n",
      "\u001b[0;31mNameError\u001b[0m: name 'solve' is not defined"
     ]
    }
   ],
   "source": [
    "solve(exp, x)"
   ]
  },
  {
   "cell_type": "code",
   "execution_count": 35,
   "id": "f5efe04c-cc7a-4854-a51e-d0e3c48977ef",
   "metadata": {},
   "outputs": [],
   "source": [
    "def myfunc(x, n):\n",
    "    return n**2*(x/n)**(log(x, 10)-3) - x**2"
   ]
  },
  {
   "cell_type": "code",
   "execution_count": null,
   "id": "690e7f8e-2cd3-4849-ae19-809a824aeaa6",
   "metadata": {},
   "outputs": [],
   "source": [
    "import scipy.optimize"
   ]
  }
 ],
 "metadata": {
  "kernelspec": {
   "display_name": "Python 3 (ipykernel)",
   "language": "python",
   "name": "python3"
  },
  "language_info": {
   "codemirror_mode": {
    "name": "ipython",
    "version": 3
   },
   "file_extension": ".py",
   "mimetype": "text/x-python",
   "name": "python",
   "nbconvert_exporter": "python",
   "pygments_lexer": "ipython3",
   "version": "3.8.13"
  }
 },
 "nbformat": 4,
 "nbformat_minor": 5
}

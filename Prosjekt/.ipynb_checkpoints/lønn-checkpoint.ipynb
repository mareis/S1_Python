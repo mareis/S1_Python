{
 "cells": [
  {
   "cell_type": "markdown",
   "id": "c8bcb72a-5e75-493d-9074-aba078a4c230",
   "metadata": {},
   "source": [
    "# Prosjektoppgave\n",
    "---\n",
    "\n",
    "-- Skriv en kort innledning -- "
   ]
  },
  {
   "cell_type": "markdown",
   "id": "498b26e2-9833-470a-b4b8-c3d6ef04f211",
   "metadata": {},
   "source": [
    "## Problemstilling\n",
    "\n",
    "-- Skriv problemstillingen --"
   ]
  },
  {
   "cell_type": "markdown",
   "id": "9df45c31-e099-4e6b-98fb-34354c4d8f80",
   "metadata": {},
   "source": [
    "## Hva beskriver dataene?\n",
    "\n",
    "-- Last inn dataene og beskriv det du observerer --\n"
   ]
  },
  {
   "cell_type": "code",
   "execution_count": 2,
   "id": "9eefedde-905f-481a-a809-7a0d1525a178",
   "metadata": {},
   "outputs": [
    {
     "data": {
      "text/html": [
       "<div>\n",
       "<style scoped>\n",
       "    .dataframe tbody tr th:only-of-type {\n",
       "        vertical-align: middle;\n",
       "    }\n",
       "\n",
       "    .dataframe tbody tr th {\n",
       "        vertical-align: top;\n",
       "    }\n",
       "\n",
       "    .dataframe thead th {\n",
       "        text-align: right;\n",
       "    }\n",
       "</style>\n",
       "<table border=\"1\" class=\"dataframe\">\n",
       "  <thead>\n",
       "    <tr style=\"text-align: right;\">\n",
       "      <th></th>\n",
       "      <th>År</th>\n",
       "      <th>Allmennpraktiserende leger</th>\n",
       "      <th>Legespesialister</th>\n",
       "      <th>Sykepleiere</th>\n",
       "      <th>Lektorer vgs</th>\n",
       "      <th>\"KPI\"</th>\n",
       "    </tr>\n",
       "  </thead>\n",
       "  <tbody>\n",
       "    <tr>\n",
       "      <th>0</th>\n",
       "      <td>2015</td>\n",
       "      <td>63590</td>\n",
       "      <td>76460</td>\n",
       "      <td>39840</td>\n",
       "      <td>44880</td>\n",
       "      <td>100.0</td>\n",
       "    </tr>\n",
       "    <tr>\n",
       "      <th>1</th>\n",
       "      <td>2016</td>\n",
       "      <td>65700</td>\n",
       "      <td>79090</td>\n",
       "      <td>41070</td>\n",
       "      <td>46260</td>\n",
       "      <td>103.6</td>\n",
       "    </tr>\n",
       "    <tr>\n",
       "      <th>2</th>\n",
       "      <td>2017</td>\n",
       "      <td>68230</td>\n",
       "      <td>81490</td>\n",
       "      <td>42170</td>\n",
       "      <td>47850</td>\n",
       "      <td>105.5</td>\n",
       "    </tr>\n",
       "    <tr>\n",
       "      <th>3</th>\n",
       "      <td>2018</td>\n",
       "      <td>69920</td>\n",
       "      <td>83390</td>\n",
       "      <td>43550</td>\n",
       "      <td>48560</td>\n",
       "      <td>108.4</td>\n",
       "    </tr>\n",
       "    <tr>\n",
       "      <th>4</th>\n",
       "      <td>2019</td>\n",
       "      <td>72100</td>\n",
       "      <td>85840</td>\n",
       "      <td>45520</td>\n",
       "      <td>50140</td>\n",
       "      <td>110.8</td>\n",
       "    </tr>\n",
       "  </tbody>\n",
       "</table>\n",
       "</div>"
      ],
      "text/plain": [
       "     År  Allmennpraktiserende leger  Legespesialister  Sykepleiere  \\\n",
       "0  2015                       63590             76460        39840   \n",
       "1  2016                       65700             79090        41070   \n",
       "2  2017                       68230             81490        42170   \n",
       "3  2018                       69920             83390        43550   \n",
       "4  2019                       72100             85840        45520   \n",
       "\n",
       "   Lektorer vgs   \"KPI\"  \n",
       "0         44880   100.0  \n",
       "1         46260   103.6  \n",
       "2         47850   105.5  \n",
       "3         48560   108.4  \n",
       "4         50140   110.8  "
      ]
     },
     "execution_count": 2,
     "metadata": {},
     "output_type": "execute_result"
    }
   ],
   "source": [
    "import pandas as pd\n",
    "import matplotlib.pyplot as plt\n",
    "\n",
    "plt.rcParams[\"figure.figsize\"] = (16, 8)\n",
    "\n",
    "df = pd.read_csv('lønn.csv', sep=\";\")\n",
    "\n",
    "df.head()"
   ]
  },
  {
   "cell_type": "markdown",
   "id": "73199718-cfa8-4b33-a675-75cedb6d43f8",
   "metadata": {},
   "source": [
    "---\n",
    "Denne cellen skal slettes når du leverer oppgaven\n",
    "\n",
    "**Bibliotek**\n",
    "```python\n",
    "import pandas as pd\n",
    "import matplotlib.pyplot as plt\n",
    "```\n",
    "\n",
    "**Import av datasettet**\n",
    "```python\n",
    "df = pd.read_csv('navn.csv', sep=\";\")\n",
    "```\n",
    "\n",
    "**Oversikt**\n",
    "\n",
    "- Øverste del av tabellen\n",
    "```python\n",
    "df.head()\n",
    "```\n",
    "\n",
    "\n",
    "- Nederste del av tabellen\n",
    "```python\n",
    "df.tail()\n",
    "```\n",
    "\n",
    "\n",
    "- Grunnlegende statistikk over dataene i tabellen\n",
    "```python\n",
    "df.describe()\n",
    "```\n",
    "\n",
    "**Plotting**\n",
    "\n",
    "Skriv en kort tekst til hvert plot om hva du observerer \n",
    "\n",
    "- Større figurer\n",
    "    ```python\n",
    "    plt.rcParams[\"figure.figsize\"] = (16, 8)\n",
    "    ```\n",
    "\n",
    "\n",
    "- Plotter hele tabellen der x-aksen 'År'-kolonnen\n",
    "    ```python\n",
    "    df.plot(x='År')\n",
    "    plt.show()\n",
    "    ```\n",
    "\n",
    "\n",
    "- Plukk ut de du ønsker å se nærmere på\n",
    "    ```python\n",
    "    df.plot(x='navn på kolonne', y=['navn på kolonne', 'navn på kolonne'])\n",
    "    plt.show()\n",
    "    ```\n",
    "\n",
    "\n",
    "- Differanse mellom verdier i kolonenen\n",
    "    ```python\n",
    "    plt.plot(df['navn på kolonne'], df[\"navn på kolonne\"]-df[\"navn på kolonne\"])\n",
    "    plt.show()\n",
    "    ```\n",
    "---"
   ]
  },
  {
   "cell_type": "markdown",
   "id": "1ab561ed-d4b7-4ece-aaff-5d212a2405d2",
   "metadata": {},
   "source": [
    "## Endring\n",
    "-- Utfør numerisk derivasjon på datasettet, plot og beskriv det du observerer --"
   ]
  },
  {
   "cell_type": "markdown",
   "id": "141dd624-b455-452d-b6b4-f23456b22267",
   "metadata": {},
   "source": [
    "## Modell\n",
    "\n",
    "-- Lag en modell og sammenlign den med de virkelige dataene i samme plot --"
   ]
  },
  {
   "cell_type": "markdown",
   "id": "7d34a0be-1558-4eba-853d-dd5ce9292933",
   "metadata": {},
   "source": [
    "## Hva har skjedd?\n",
    "\n",
    "-- Bruk analysen over til å beskrive hva som har skjedd --"
   ]
  },
  {
   "cell_type": "markdown",
   "id": "0e1b1115-2e6c-40c4-8c90-b768afc7d873",
   "metadata": {},
   "source": [
    "## Hvorfor har det skjedd?\n",
    "\n",
    "-- Bruk analysen over sammen med evt. andre sammfunnsstrukturer/hendelser til å beskrive hvorfor det har skjedd --"
   ]
  },
  {
   "cell_type": "markdown",
   "id": "0dc45908-a555-40d2-85ad-dc52cc9070c5",
   "metadata": {},
   "source": [
    "## Hva kommer til å skje videre?\n",
    "\n",
    "-- Bruk modellen din til beskrive den videre utviklingen --"
   ]
  },
  {
   "cell_type": "markdown",
   "id": "c388a35b-a788-4a3f-bb09-b80fa956e671",
   "metadata": {},
   "source": [
    "## Oppsumering"
   ]
  },
  {
   "cell_type": "markdown",
   "id": "a26af9d8-3e02-425d-91fa-e71e7365f70f",
   "metadata": {},
   "source": []
  }
 ],
 "metadata": {
  "kernelspec": {
   "display_name": "Python 3 (ipykernel)",
   "language": "python",
   "name": "python3"
  },
  "language_info": {
   "codemirror_mode": {
    "name": "ipython",
    "version": 3
   },
   "file_extension": ".py",
   "mimetype": "text/x-python",
   "name": "python",
   "nbconvert_exporter": "python",
   "pygments_lexer": "ipython3",
   "version": "3.8.12"
  }
 },
 "nbformat": 4,
 "nbformat_minor": 5
}

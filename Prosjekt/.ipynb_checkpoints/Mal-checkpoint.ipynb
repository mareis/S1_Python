{
 "cells": [
  {
   "cell_type": "markdown",
   "id": "c8bcb72a-5e75-493d-9074-aba078a4c230",
   "metadata": {},
   "source": [
    "# Prosjektoppgave\n",
    "---\n",
    "\n",
    "-- Skriv en kort innledning -- "
   ]
  },
  {
   "cell_type": "markdown",
   "id": "498b26e2-9833-470a-b4b8-c3d6ef04f211",
   "metadata": {},
   "source": [
    "## Problemstilling\n",
    "\n",
    "-- Skriv problemstillingen --"
   ]
  },
  {
   "cell_type": "markdown",
   "id": "9df45c31-e099-4e6b-98fb-34354c4d8f80",
   "metadata": {},
   "source": [
    "## Hva beskriver dataene?\n",
    "\n",
    "-- Last inn dataene og beskriv det du observerer --\n"
   ]
  },
  {
   "cell_type": "markdown",
   "id": "73199718-cfa8-4b33-a675-75cedb6d43f8",
   "metadata": {},
   "source": [
    "---\n",
    "Denne cellen skal slettes når du leverer oppgaven\n",
    "\n",
    "**Bibliotek**\n",
    "```python\n",
    "import pandas as pd\n",
    "import matplotlib.pyplot as plt\n",
    "```\n",
    "\n",
    "**Import av datasettet**\n",
    "```python\n",
    "df = pd.read_csv('navn.csv', sep=\";\")\n",
    "```\n",
    "\n",
    "**Oversikt**\n",
    "\n",
    "- Øverste del av tabellen\n",
    "```python\n",
    "df.head()\n",
    "```\n",
    "\n",
    "\n",
    "- Nederste del av tabellen\n",
    "```python\n",
    "df.tail()\n",
    "```\n",
    "\n",
    "\n",
    "- Grunnlegende statistikk over dataene i tabellen\n",
    "```python\n",
    "df.describe()\n",
    "```\n",
    "\n",
    "**Plotting**\n",
    "\n",
    "Skriv en kort tekst til hvert plot om hva du observerer \n",
    "\n",
    "- Større figurer\n",
    "    ```python\n",
    "    plt.rcParams[\"figure.figsize\"] = (16, 8)\n",
    "    ```\n",
    "\n",
    "\n",
    "- Plotter hele tabellen der x-aksen 'År'-kolonnen\n",
    "    ```python\n",
    "    df.plot(x='År')\n",
    "    plt.show()\n",
    "    ```\n",
    "\n",
    "\n",
    "- Plukk ut de du ønsker å se nærmere på\n",
    "    ```python\n",
    "    df.plot(x='navn på kolonne', y=['navn på kolonne', 'navn på kolonne'])\n",
    "    plt.show()\n",
    "    ```\n",
    "\n",
    "\n",
    "- Diferanse mellom verdier i kolonenen\n",
    "    ```python\n",
    "    plt.plot(df['navn på kolonne'], df[\"navn på kolonne\"]-df[\"navn på kolonne\"])\n",
    "    plt.show()\n",
    "    ```\n",
    "---"
   ]
  },
  {
   "cell_type": "markdown",
   "id": "1ab561ed-d4b7-4ece-aaff-5d212a2405d2",
   "metadata": {},
   "source": [
    "## Endring\n",
    "-- Utfør numerisk derivasjon på datasettet, plot og beskriv det du observerer --"
   ]
  },
  {
   "cell_type": "markdown",
   "id": "141dd624-b455-452d-b6b4-f23456b22267",
   "metadata": {},
   "source": [
    "## Modell\n",
    "\n",
    "-- Lag en modell og sammenlign den med de virkelige dataene i samme plot --"
   ]
  },
  {
   "cell_type": "markdown",
   "id": "7d34a0be-1558-4eba-853d-dd5ce9292933",
   "metadata": {},
   "source": [
    "## Hva har skjedd?\n",
    "\n",
    "-- Bruk analysen over til å beskrive hva som har skjedd --"
   ]
  },
  {
   "cell_type": "markdown",
   "id": "0e1b1115-2e6c-40c4-8c90-b768afc7d873",
   "metadata": {},
   "source": [
    "## Hvorfor har det skjedd?\n",
    "\n",
    "-- Bruk analysen over sammen med evt. andre sammfunnsstrukturer/hendelser til å beskrive hvorfor det har skjedd --"
   ]
  },
  {
   "cell_type": "markdown",
   "id": "0dc45908-a555-40d2-85ad-dc52cc9070c5",
   "metadata": {},
   "source": [
    "## Hva kommer til å skje videre?\n",
    "\n",
    "-- Bruk modellen din til beskrive den videre utviklingen --"
   ]
  },
  {
   "cell_type": "markdown",
   "id": "c388a35b-a788-4a3f-bb09-b80fa956e671",
   "metadata": {},
   "source": [
    "## Oppsumering"
   ]
  },
  {
   "cell_type": "markdown",
   "id": "a26af9d8-3e02-425d-91fa-e71e7365f70f",
   "metadata": {},
   "source": []
  }
 ],
 "metadata": {
  "kernelspec": {
   "display_name": "Python 3 (ipykernel)",
   "language": "python",
   "name": "python3"
  },
  "language_info": {
   "codemirror_mode": {
    "name": "ipython",
    "version": 3
   },
   "file_extension": ".py",
   "mimetype": "text/x-python",
   "name": "python",
   "nbconvert_exporter": "python",
   "pygments_lexer": "ipython3",
   "version": "3.8.12"
  }
 },
 "nbformat": 4,
 "nbformat_minor": 5
}

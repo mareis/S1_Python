{
 "cells": [
  {
   "cell_type": "markdown",
   "id": "fb170502-b29b-49d2-b227-390bc9cf7adf",
   "metadata": {},
   "source": [
    "# Prosjektoppgave"
   ]
  },
  {
   "cell_type": "markdown",
   "id": "7de56122-e1d0-4e04-926b-1f112ad51262",
   "metadata": {},
   "source": [
    "## Læreplanmål\n",
    "\n",
    "- planlegge og gjennomføre et selvstendig arbeid med reelle datasett knyttet til samfunnsøkonomiske temaer og forhold, og analysere og presentere funn.\n",
    "\n",
    "- uttrykke egne resonnementer ved hjelp av matematiske begreper og symbolspråk\n",
    "\n",
    " - anvende derivasjon til å analysere og tolke egne matematiske modeller av reelle datasett\n",
    "\n",
    "- forstå begrepene gjennomsnittlig og momentan vekstfart, grenseverdi og derivasjon, og bruke disse for å løse praktiske problemer\n"
   ]
  },
  {
   "cell_type": "markdown",
   "id": "26d19f28-eded-4bfe-809b-61a026c35a1d",
   "metadata": {},
   "source": [
    "## Vurderingskriterier\n",
    "![](vurderingskriterier.png)"
   ]
  },
  {
   "cell_type": "code",
   "execution_count": null,
   "id": "6754999c-5a1a-43bb-8484-779b48882ffe",
   "metadata": {},
   "outputs": [],
   "source": []
  }
 ],
 "metadata": {
  "kernelspec": {
   "display_name": "Python 3 (ipykernel)",
   "language": "python",
   "name": "python3"
  },
  "language_info": {
   "codemirror_mode": {
    "name": "ipython",
    "version": 3
   },
   "file_extension": ".py",
   "mimetype": "text/x-python",
   "name": "python",
   "nbconvert_exporter": "python",
   "pygments_lexer": "ipython3",
   "version": "3.8.12"
  }
 },
 "nbformat": 4,
 "nbformat_minor": 5
}

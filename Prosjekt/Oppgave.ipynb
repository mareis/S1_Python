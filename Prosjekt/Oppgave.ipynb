{
 "cells": [
  {
   "cell_type": "markdown",
   "id": "3aa77459-19f5-47be-8269-283227f69e4c",
   "metadata": {},
   "source": [
    "# Prosjektoppgave\n",
    "\n",
    "I matematikk S1 skal du selv kunne planlegge og gjennomføre et selvstendig arbeid med reelle datasett knyttet til samfunnsøkonomiske temaer og forhold, og analysere og presentere funn.\n",
    "\n",
    "Steg:\n",
    "\n",
    "- Hva beskriver dataene?\n",
    "- Hva har skjedd?\n",
    "- Hvorfor har det skjedd?\n",
    "- Hva kommer til å skje videre?"
   ]
  },
  {
   "cell_type": "markdown",
   "id": "7de56122-e1d0-4e04-926b-1f112ad51262",
   "metadata": {
    "jp-MarkdownHeadingCollapsed": true,
    "tags": []
   },
   "source": [
    "## Læreplanmål\n",
    "\n",
    "- planlegge og gjennomføre et selvstendig arbeid med reelle datasett knyttet til samfunnsøkonomiske temaer og forhold, og analysere og presentere funn.\n",
    "\n",
    "- uttrykke egne resonnementer ved hjelp av matematiske begreper og symbolspråk\n",
    "\n",
    " - anvende derivasjon til å analysere og tolke egne matematiske modeller av reelle datasett\n",
    "\n",
    "- forstå begrepene gjennomsnittlig og momentan vekstfart, grenseverdi og derivasjon, og bruke disse for å løse praktiske problemer\n"
   ]
  },
  {
   "cell_type": "markdown",
   "id": "26d19f28-eded-4bfe-809b-61a026c35a1d",
   "metadata": {},
   "source": [
    "## Vurderingskriterier\n",
    "![](vurderingskriterier.png)"
   ]
  },
  {
   "cell_type": "markdown",
   "id": "d8a08af3-3f30-4161-8212-dc98a96337c1",
   "metadata": {},
   "source": [
    "## Problemstilling\n",
    "\n",
    "En problemstilling er et overordnet spørsmål som du skal besvare. Problemstillingen skal være knyttet til et samfunnsøkonomisk tema. Vi oppfordrer deg til å finne et tema du brenner for, som du har lyst til å undersøke nærmere.\n",
    "\n",
    "En god problemstilling:\n",
    "\n",
    "- avgrenser temaet og tydeliggjør hva du skal skrive om\n",
    "- fungerer som en rød tråd gjennom arbeidet\n",
    "- er presis og inneholder ofte et spørreord i form av hva, hvordan, hvorfor\n",
    "- er undersøkende og drøftende, det vil si at du skal belyse temaet fra flere sider\n",
    "- finner ut noe nytt og ikke bare bekrefter noe du allerede vet"
   ]
  },
  {
   "cell_type": "markdown",
   "id": "0768a581-51a7-4af7-a2bb-9f1445b36f58",
   "metadata": {},
   "source": [
    "## Disposisjon\n",
    "\n",
    "\n",
    "Når du skal presentere det selvstendige arbeidet kan det være i form av en skrevet tekst. Da kan en disposisjon være til hjelp for å planlegge og strukturere rekkefølgen på delen i teksten.\n",
    "\n",
    "En god disposisjon inneholder:\n",
    "\n",
    "- en overskrift som viser hva teksten handler om\n",
    "- en innledning som presenterer problemstillingen og hva du ønsker å fokusere på\n",
    "- en hoveddel der du presenterer og analyserer funn\n",
    "- en avslutning der du oppsummerer og lager en konklusjon knyttet til problemstillingen"
   ]
  },
  {
   "cell_type": "markdown",
   "id": "af480c58-9e9f-48fb-af4b-fe8b443d3230",
   "metadata": {},
   "source": [
    "## Lenker\n",
    "\n",
    "- [SSB](ssb.no)\n",
    "- [Vincent Arel-Bundock](https://vincentarelbundock.github.io/Rdatasets/datasets.html)\n",
    "- [Universitetet i Bergen](https://ektedata.uib.no/)"
   ]
  },
  {
   "cell_type": "code",
   "execution_count": null,
   "id": "8d13b56b-4a36-471e-93fa-6e96f349b586",
   "metadata": {},
   "outputs": [],
   "source": []
  }
 ],
 "metadata": {
  "kernelspec": {
   "display_name": "Python 3 (ipykernel)",
   "language": "python",
   "name": "python3"
  },
  "language_info": {
   "codemirror_mode": {
    "name": "ipython",
    "version": 3
   },
   "file_extension": ".py",
   "mimetype": "text/x-python",
   "name": "python",
   "nbconvert_exporter": "python",
   "pygments_lexer": "ipython3",
   "version": "3.8.12"
  }
 },
 "nbformat": 4,
 "nbformat_minor": 5
}
